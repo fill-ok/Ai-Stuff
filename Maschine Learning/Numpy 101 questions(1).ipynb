{
 "cells": [
  {
   "cell_type": "markdown",
   "id": "e3b868ae-5230-4258-9c9b-8c07ae10d6fe",
   "metadata": {},
   "source": [
    "### 1. Import numpy as np and see the version"
   ]
  },
  {
   "cell_type": "code",
   "execution_count": 1,
   "id": "b7fc3b92-4c2d-4cc0-8ece-76e1f2f7ec3d",
   "metadata": {},
   "outputs": [
    {
     "name": "stdout",
     "output_type": "stream",
     "text": [
      "Requirement already satisfied: numpy in c:\\users\\qather\\appdata\\local\\programs\\python\\python312\\lib\\site-packages (2.1.3)\n"
     ]
    },
    {
     "name": "stderr",
     "output_type": "stream",
     "text": [
      "WARNING: There was an error checking the latest version of pip.\n"
     ]
    }
   ],
   "source": [
    "!pip install numpy"
   ]
  },
  {
   "cell_type": "code",
   "execution_count": 2,
   "id": "845d21ab-7386-4c10-b0dc-171fe7f29627",
   "metadata": {},
   "outputs": [
    {
     "name": "stdout",
     "output_type": "stream",
     "text": [
      "2.1.3\n"
     ]
    }
   ],
   "source": [
    "import numpy as np\n",
    "print(np.__version__)"
   ]
  },
  {
   "cell_type": "markdown",
   "id": "bbcd4aa6-fa98-4472-899a-48b87d858372",
   "metadata": {},
   "source": [
    "### 2. How to create a 1D array?"
   ]
  },
  {
   "cell_type": "code",
   "execution_count": 3,
   "id": "878b7aa9-5e3d-4fb9-a344-3222c9a4d94c",
   "metadata": {},
   "outputs": [
    {
     "name": "stdout",
     "output_type": "stream",
     "text": [
      "[0 1 2 3 4 5 6 7 8 9]\n"
     ]
    }
   ],
   "source": [
    "arr = np.arange(10)\n",
    "print(arr)"
   ]
  },
  {
   "cell_type": "markdown",
   "id": "6a5b7be8-e81e-4719-9ff5-349c7f986fb3",
   "metadata": {},
   "source": [
    "### 3. How to create a boolean array?"
   ]
  },
  {
   "cell_type": "code",
   "execution_count": 4,
   "id": "cda07d84-a64b-4db7-8de5-bd817f4d2367",
   "metadata": {},
   "outputs": [
    {
     "name": "stdout",
     "output_type": "stream",
     "text": [
      "[[ True  True  True]\n",
      " [ True  True  True]\n",
      " [ True  True  True]]\n"
     ]
    }
   ],
   "source": [
    "arr_bool = np.full((3,3), True , dtype=bool)\n",
    "print(arr_bool)"
   ]
  },
  {
   "cell_type": "markdown",
   "id": "e868cdb2-98df-44bf-981b-accf9ac5c7be",
   "metadata": {},
   "source": [
    "### 4. How to extract items that satisfy a given condition from 1D array?"
   ]
  },
  {
   "cell_type": "code",
   "execution_count": 5,
   "id": "0ed412bb-56e1-4b35-a929-0722e233e6d7",
   "metadata": {},
   "outputs": [
    {
     "name": "stdout",
     "output_type": "stream",
     "text": [
      "[1, 3, 5, 7, 9]\n",
      "[[[-1  1 -1]\n",
      "  [ 3 -1  5]]\n",
      "\n",
      " [[-1  7 -1]\n",
      "  [ 9 -1 11]]]\n"
     ]
    }
   ],
   "source": [
    "arr = [int(_) for _ in np.arange(10) if _%2==1]\n",
    "print(arr)\n",
    "\n",
    "# OR\n",
    "arr = np.array([0, 1, 2, 3, 4, 5, 6, 7, 8, 9])\n",
    "arr[arr % 2 == 1]\n",
    "\n",
    "# Ein 3D-Array erstellen\n",
    "arr2 = np.array([\n",
    "    [[0, 1, 2], [3, 4, 5]],\n",
    "    [[6, 7, 8], [9, 10, 11]]\n",
    "])\n",
    "\n",
    "# Elemente auswählen, die bei Modulo 2 den Rest 1 haben (ungerade Zahlen)\n",
    "arr2[arr2 % 2 == 1]\n",
    "\n",
    "\n",
    "# 3D-Array\n",
    "arr3 = np.array([\n",
    "    [[0, 1, 2], [3, 4, 5]],\n",
    "    [[6, 7, 8], [9, 10, 11]]\n",
    "])\n",
    "\n",
    "# Nur ungerade Zahlen beibehalten, andere durch -1 ersetzen\n",
    "masked = np.where(arr3 % 2 == 1, arr3, -1)\n",
    "\n",
    "print(masked)"
   ]
  },
  {
   "cell_type": "markdown",
   "id": "8f6c0dc3-70ff-460e-a0aa-6672323d5bb5",
   "metadata": {},
   "source": [
    "### 5. How to replace items that satisfy a condition with another value in numpy array?"
   ]
  },
  {
   "cell_type": "code",
   "execution_count": 6,
   "id": "bde5288d-3526-41bc-90be-5addd109145b",
   "metadata": {},
   "outputs": [
    {
     "name": "stdout",
     "output_type": "stream",
     "text": [
      "[ 0 -1  2 -1  4 -1  6 -1  8 -1]\n",
      "[ 0 -1  2 -1  4 -1  6 -1  8 -1]\n"
     ]
    }
   ],
   "source": [
    "arr = np.arange(10)\n",
    "arr = np.where(arr % 2 == 0 , arr, -1)\n",
    "print(arr)\n",
    "\n",
    "# OR\n",
    "arr2 = np.arange(10)\n",
    "arr2[arr2 % 2 == 1] = -1\n",
    "print(arr2)"
   ]
  },
  {
   "cell_type": "markdown",
   "id": "291beeab-b500-4462-b825-520d64ff6d21",
   "metadata": {},
   "source": [
    "### 6. How to replace items that satisfy a condition without affecting the original array?"
   ]
  },
  {
   "cell_type": "code",
   "execution_count": 7,
   "id": "cd869263-dc06-493a-b82a-7b8779c19f09",
   "metadata": {},
   "outputs": [
    {
     "name": "stdout",
     "output_type": "stream",
     "text": [
      "[0 1 2 3 4 5 6 7 8 9]\n",
      "[ 0 -1  2 -1  4 -1  6 -1  8 -1]\n"
     ]
    }
   ],
   "source": [
    "arr = np.arange(10)\n",
    "even = np.where(arr % 2 == 0 , arr, -1)\n",
    "print(arr)\n",
    "print(even)"
   ]
  },
  {
   "cell_type": "markdown",
   "id": "10a332f5-5afe-4bd8-8487-da3bb3403d30",
   "metadata": {},
   "source": [
    "### 7. How to reshape an array?"
   ]
  },
  {
   "cell_type": "code",
   "execution_count": 8,
   "id": "1bc67c2d-3ebc-4e29-a6e8-877592d965e4",
   "metadata": {},
   "outputs": [
    {
     "name": "stdout",
     "output_type": "stream",
     "text": [
      "(10,)\n",
      "[[0 1 2 3 4]\n",
      " [5 6 7 8 9]]\n"
     ]
    }
   ],
   "source": [
    "arr = np.arange(10)\n",
    "print(arr.shape)\n",
    "\n",
    "arr = arr.reshape((2,-1))\n",
    "print(arr)"
   ]
  },
  {
   "cell_type": "markdown",
   "id": "72f0ca68-126b-4da9-bf9b-33a7c662855b",
   "metadata": {},
   "source": [
    "### 8. How to stack two arrays vertically?"
   ]
  },
  {
   "cell_type": "code",
   "execution_count": 9,
   "id": "091dcfd9-059a-4856-ba9d-908ffb68b3e6",
   "metadata": {},
   "outputs": [
    {
     "name": "stdout",
     "output_type": "stream",
     "text": [
      "[[0 1 2 3 4]\n",
      " [5 6 7 8 9]]\n",
      "[[1 1 1 1 1]\n",
      " [1 1 1 1 1]]\n",
      "\n",
      "\n",
      "[[0 1 2 3 4]\n",
      " [5 6 7 8 9]]\n",
      "[[1 1 1 1 1]\n",
      " [1 1 1 1 1]]\n"
     ]
    }
   ],
   "source": [
    "a = np.arange(10).reshape(2,-1)\n",
    "b = np.repeat(1, 10).reshape(2,-1)\n",
    "print(a)\n",
    "print(b)\n",
    "\n",
    "print(\"\\n\")\n",
    "np.concatenate([a,b], axis=0)\n",
    "print(a)\n",
    "print(b)\n"
   ]
  },
  {
   "cell_type": "markdown",
   "id": "d489806e-0dfb-48de-a357-48801f521dfd",
   "metadata": {},
   "source": [
    "### 9. How to stack two arrays horizontally?"
   ]
  },
  {
   "cell_type": "code",
   "execution_count": 10,
   "id": "ed89867d-8c37-4fdd-85cf-3873e58a10fd",
   "metadata": {},
   "outputs": [
    {
     "data": {
      "text/plain": [
       "array([[0, 1, 2, 3, 4, 1, 1, 1, 1, 1],\n",
       "       [5, 6, 7, 8, 9, 1, 1, 1, 1, 1]])"
      ]
     },
     "execution_count": 10,
     "metadata": {},
     "output_type": "execute_result"
    }
   ],
   "source": [
    "a = np.arange(10).reshape(2,-1)\n",
    "b = np.repeat(1, 10).reshape(2,-1)\n",
    "\n",
    "# Answers\n",
    "# Method 1:\n",
    "np.concatenate([a, b], axis=1)\n",
    "\n",
    "# Method 2:\n",
    "np.hstack([a, b])\n",
    "\n",
    "# Method 3:\n",
    "np.c_[a, b]"
   ]
  },
  {
   "cell_type": "markdown",
   "id": "48c7deec-ed8a-4d08-bba2-146f4ddc091f",
   "metadata": {},
   "source": [
    "### 10. How to generate custom sequences in numpy without hardcoding?"
   ]
  },
  {
   "cell_type": "code",
   "execution_count": 11,
   "id": "8bde2f9f-8d7c-406e-b4fa-206ba6d7f9c5",
   "metadata": {},
   "outputs": [
    {
     "data": {
      "text/plain": [
       "array([1, 1, 1, 2, 2, 2, 3, 3, 3, 1, 2, 3, 1, 2, 3, 1, 2, 3])"
      ]
     },
     "execution_count": 11,
     "metadata": {},
     "output_type": "execute_result"
    }
   ],
   "source": [
    "a = np.array([1,2,3])\n",
    "np.r_[np.repeat(a, 3), np.tile(a, 3)]"
   ]
  },
  {
   "cell_type": "markdown",
   "id": "e262cd4c-b294-4911-b0a8-bc783c9f7acc",
   "metadata": {},
   "source": [
    "### 11. How to get the common items between two python numpy arrays?"
   ]
  },
  {
   "cell_type": "code",
   "execution_count": 12,
   "id": "202c2443-92ee-48ed-98a1-64b5a2e1dbf4",
   "metadata": {},
   "outputs": [
    {
     "data": {
      "text/plain": [
       "array([2, 4])"
      ]
     },
     "execution_count": 12,
     "metadata": {},
     "output_type": "execute_result"
    }
   ],
   "source": [
    "a = np.array([1,2,3,2,3,4,3,4,5,6])\n",
    "b = np.array([7,2,10,2,7,4,9,4,9,8])\n",
    "np.intersect1d(a,b)"
   ]
  },
  {
   "cell_type": "markdown",
   "id": "8d58fd0e-9416-4479-a735-2e77035fb223",
   "metadata": {},
   "source": [
    "### 12. How to remove from one array those items that exist in another?"
   ]
  },
  {
   "cell_type": "code",
   "execution_count": 13,
   "id": "ebaf1d87-8246-42f3-91d2-ee59271e2b8d",
   "metadata": {},
   "outputs": [
    {
     "data": {
      "text/plain": [
       "array([1, 2, 3, 4])"
      ]
     },
     "execution_count": 13,
     "metadata": {},
     "output_type": "execute_result"
    }
   ],
   "source": [
    "a = np.array([1,2,3,4,5])\n",
    "b = np.array([5,6,7,8,9])\n",
    "\n",
    "# From 'a' remove all of 'b'\n",
    "np.setdiff1d(a,b)\n",
    "#> array([1, 2, 3, 4])\n",
    "\n"
   ]
  },
  {
   "cell_type": "markdown",
   "id": "5e7bb149-9cd3-484b-b357-e27fc0ae846b",
   "metadata": {},
   "source": [
    "### 13. How to get the positions where elements of two arrays match?"
   ]
  },
  {
   "cell_type": "code",
   "execution_count": 14,
   "id": "14866027-c810-4d61-99ac-d03479b2636b",
   "metadata": {},
   "outputs": [
    {
     "data": {
      "text/plain": [
       "(array([1, 3, 5, 7]),)"
      ]
     },
     "execution_count": 14,
     "metadata": {},
     "output_type": "execute_result"
    }
   ],
   "source": [
    "a = np.array([1,2,3,2,3,4,3,4,5,6])\n",
    "b = np.array([7,2,10,2,7,4,9,4,9,8])\n",
    "\n",
    "np.where(a == b)\n",
    "#> (array([1, 3, 5, 7]),)\n",
    "\n"
   ]
  },
  {
   "cell_type": "markdown",
   "id": "95a6b91f-1f19-4e5b-8556-4205197b340a",
   "metadata": {},
   "source": [
    "### 14. How to extract all numbers between a given range from a numpy array?"
   ]
  },
  {
   "cell_type": "code",
   "execution_count": 15,
   "id": "ce1717b9-3b21-44ea-b7de-39e6b19d33f3",
   "metadata": {},
   "outputs": [
    {
     "data": {
      "text/plain": [
       "array([ 5,  6,  7,  8,  9, 10])"
      ]
     },
     "execution_count": 15,
     "metadata": {},
     "output_type": "execute_result"
    }
   ],
   "source": [
    "a = np.arange(15)\n",
    "\n",
    "# Method 1\n",
    "index = np.where((a >= 5) & (a <= 10))\n",
    "a[index]\n",
    "\n",
    "# Method 2:\n",
    "index = np.where(np.logical_and(a>=5, a<=10))\n",
    "a[index]\n",
    "#> (array([6, 9, 10]),)\n",
    "\n",
    "# Method 3: (thanks loganzk!)\n",
    "a[(a >= 5) & (a <= 10)]\n",
    "\n"
   ]
  },
  {
   "cell_type": "markdown",
   "id": "b9cad1a1-6373-4e73-b268-a03b41d74440",
   "metadata": {},
   "source": [
    "### 15. How to make a python function that handles scalars to work on numpy arrays?"
   ]
  },
  {
   "cell_type": "code",
   "execution_count": 16,
   "id": "65164290-dee5-4bcb-bd0c-b58ac97aca97",
   "metadata": {},
   "outputs": [
    {
     "data": {
      "text/plain": [
       "array([6., 7., 9., 8., 9., 7., 5.])"
      ]
     },
     "execution_count": 16,
     "metadata": {},
     "output_type": "execute_result"
    }
   ],
   "source": [
    "def maxx(x, y):\n",
    "    \"\"\"Get the maximum of two items\"\"\"\n",
    "    if x >= y:\n",
    "        return x\n",
    "    else:\n",
    "        return y\n",
    "\n",
    "pair_max = np.vectorize(maxx, otypes=[float])\n",
    "\n",
    "a = np.array([5, 7, 9, 8, 6, 4, 5])\n",
    "b = np.array([6, 3, 4, 8, 9, 7, 1])\n",
    "\n",
    "pair_max(a, b)\n",
    "#> array([ 6.,  7.,  9.,  8.,  9.,  7.,  5.])\n",
    "\n"
   ]
  },
  {
   "cell_type": "markdown",
   "id": "adf589f8-d955-4204-b447-28e00f2638cf",
   "metadata": {},
   "source": [
    "### 16. How to swap two columns in a 2d numpy array?"
   ]
  },
  {
   "cell_type": "code",
   "execution_count": 17,
   "id": "70557d62-ff26-47d2-8c29-cf1c12b5b0fe",
   "metadata": {},
   "outputs": [
    {
     "data": {
      "text/plain": [
       "array([[3, 4, 5],\n",
       "       [0, 1, 2],\n",
       "       [6, 7, 8]])"
      ]
     },
     "execution_count": 17,
     "metadata": {},
     "output_type": "execute_result"
    }
   ],
   "source": [
    "arr = np.arange(9).reshape(3,3)\n",
    "\n",
    "# Solution\n",
    "arr[[1,0,2], :]\n",
    "#> array([[3, 4, 5],\n",
    "#>        [0, 1, 2],\n",
    "#>        [6, 7, 8]])\n",
    "\n"
   ]
  },
  {
   "cell_type": "markdown",
   "id": "19dc77f0-56a9-4fde-8e82-4779b8f90821",
   "metadata": {},
   "source": [
    "### 18. How to reverse the rows of a 2D array?"
   ]
  },
  {
   "cell_type": "code",
   "execution_count": 18,
   "id": "93649bd3-927c-4183-8802-43fd3c0502af",
   "metadata": {},
   "outputs": [
    {
     "data": {
      "text/plain": [
       "array([[6, 7, 8],\n",
       "       [3, 4, 5],\n",
       "       [0, 1, 2]])"
      ]
     },
     "execution_count": 18,
     "metadata": {},
     "output_type": "execute_result"
    }
   ],
   "source": [
    "arr = np.arange(9).reshape(3,3)\n",
    "\n",
    "# Solution\n",
    "arr[::-1]"
   ]
  },
  {
   "cell_type": "markdown",
   "id": "18bd6325-8b77-43bc-8a61-622d1298bd7c",
   "metadata": {},
   "source": [
    "### 19. How to reverse the columns of a 2D array?"
   ]
  },
  {
   "cell_type": "code",
   "execution_count": 19,
   "id": "6bd7c82e-191e-4a3f-aad8-002118061c8a",
   "metadata": {},
   "outputs": [
    {
     "data": {
      "text/plain": [
       "array([[2, 1, 0],\n",
       "       [5, 4, 3],\n",
       "       [8, 7, 6]])"
      ]
     },
     "execution_count": 19,
     "metadata": {},
     "output_type": "execute_result"
    }
   ],
   "source": [
    "arr = np.arange(9).reshape(3,3)\n",
    "\n",
    "# Solution\n",
    "arr[:, ::-1]\n",
    "#> array([[2, 1, 0],\n",
    "#>        [5, 4, 3],\n",
    "#>        [8, 7, 6]])"
   ]
  },
  {
   "cell_type": "markdown",
   "id": "362dba2b-c82a-4cef-870c-e952839b5f0c",
   "metadata": {},
   "source": [
    "### 20. How to create a 2D array containing random floats between 5 and 10?"
   ]
  },
  {
   "cell_type": "code",
   "execution_count": 20,
   "id": "c231ef54-c7ca-40ca-8cc0-e2ee4107af25",
   "metadata": {},
   "outputs": [
    {
     "name": "stdout",
     "output_type": "stream",
     "text": [
      "[[9.62960922 9.15247055 9.61212207]\n",
      " [9.35432339 7.51389311 5.5895578 ]\n",
      " [7.2191097  6.29406427 5.53990095]\n",
      " [8.7292929  5.95596342 7.29586973]\n",
      " [8.09553863 8.17094943 5.69499174]]\n"
     ]
    }
   ],
   "source": [
    "arr = np.arange(9).reshape(3,3)\n",
    "\n",
    "# Solution Method 1:\n",
    "rand_arr = np.random.randint(low=5, high=10, size=(5,3)) + np.random.random((5,3))\n",
    "# print(rand_arr)\n",
    "\n",
    "# Solution Method 2:\n",
    "rand_arr = np.random.uniform(5,10, size=(5,3))\n",
    "print(rand_arr)\n",
    "#> [[ 8.50061025  9.10531502  6.85867783]\n",
    "#>  [ 9.76262069  9.87717411  7.13466701]\n",
    "#>  [ 7.48966403  8.33409158  6.16808631]\n",
    "#>  [ 7.75010551  9.94535696  5.27373226]\n",
    "#>  [ 8.0850361   5.56165518  7.31244004]]"
   ]
  },
  {
   "cell_type": "markdown",
   "id": "b2dca331-a34b-4e3e-9a06-309921f80f22",
   "metadata": {},
   "source": [
    "### 21. How to print only 3 decimal places in python numpy array?"
   ]
  },
  {
   "cell_type": "code",
   "execution_count": 21,
   "id": "2e400245-9079-4320-998d-9c0a9e0c87cb",
   "metadata": {},
   "outputs": [
    {
     "data": {
      "text/plain": [
       "array([[0.174, 0.609, 0.987],\n",
       "       [0.587, 0.062, 0.621],\n",
       "       [0.803, 0.655, 0.861],\n",
       "       [0.233, 0.463, 0.183]])"
      ]
     },
     "execution_count": 21,
     "metadata": {},
     "output_type": "execute_result"
    }
   ],
   "source": [
    "rand_arr = np.random.random([5,3])\n",
    "\n",
    "# Limit to 3 decimal places\n",
    "np.set_printoptions(precision=3)\n",
    "rand_arr[:4]\n",
    "#> array([[ 0.443,  0.109,  0.97 ],\n",
    "#>        [ 0.388,  0.447,  0.191],\n",
    "#>        [ 0.891,  0.474,  0.212],\n",
    "#>        [ 0.609,  0.518,  0.403]])"
   ]
  },
  {
   "cell_type": "markdown",
   "id": "d09d54d9-6096-4684-908a-963e884cf653",
   "metadata": {},
   "source": [
    "### 22. How to pretty print a numpy array by suppressing the scientific notation (like 1e10)?"
   ]
  },
  {
   "cell_type": "code",
   "execution_count": 22,
   "id": "f8568e08-1ce0-4b9d-8457-c5ca328cd6fc",
   "metadata": {},
   "outputs": [
    {
     "data": {
      "text/plain": [
       "array([[0.000543, 0.000278, 0.000425],\n",
       "       [0.000845, 0.000005, 0.000122],\n",
       "       [0.000671, 0.000826, 0.000137]])"
      ]
     },
     "execution_count": 22,
     "metadata": {},
     "output_type": "execute_result"
    }
   ],
   "source": [
    "# Reset printoptions to default\n",
    "np.set_printoptions(suppress=False)\n",
    "\n",
    "# Create the random array\n",
    "np.random.seed(100)\n",
    "rand_arr = np.random.random([3,3])/1e3\n",
    "rand_arr\n",
    "#> array([[  5.434049e-04,   2.783694e-04,   4.245176e-04],\n",
    "#>        [  8.447761e-04,   4.718856e-06,   1.215691e-04],\n",
    "#>        [  6.707491e-04,   8.258528e-04,   1.367066e-04]])\n",
    "\n",
    "np.set_printoptions(suppress=True, precision=6)  # precision is optional\n",
    "rand_arr\n",
    "#> array([[ 0.000543,  0.000278,  0.000425],\n",
    "#>        [ 0.000845,  0.000005,  0.000122],\n",
    "#>        [ 0.000671,  0.000826,  0.000137]])"
   ]
  },
  {
   "cell_type": "markdown",
   "id": "f46bb2e8-3296-495d-8714-35fc1bcc566a",
   "metadata": {},
   "source": [
    "### 23. How to limit the number of items printed in output of numpy array?"
   ]
  },
  {
   "cell_type": "code",
   "execution_count": 23,
   "id": "fc958f06-955d-4e9f-a696-80dccce71284",
   "metadata": {},
   "outputs": [
    {
     "data": {
      "text/plain": [
       "array([ 0,  1,  2, ..., 12, 13, 14])"
      ]
     },
     "execution_count": 23,
     "metadata": {},
     "output_type": "execute_result"
    }
   ],
   "source": [
    "np.set_printoptions(threshold=6)\n",
    "a = np.arange(15)\n",
    "a\n",
    "#> array([ 0,  1,  2, ..., 12, 13, 14])\n",
    "\n"
   ]
  },
  {
   "cell_type": "markdown",
   "id": "f743211a-e21d-4499-8d16-fee29073db81",
   "metadata": {},
   "source": [
    "### 24. How to print the full numpy array without truncating"
   ]
  },
  {
   "cell_type": "code",
   "execution_count": 24,
   "id": "b483c3e5-53de-4adf-86cc-c5e77e806cf3",
   "metadata": {},
   "outputs": [
    {
     "data": {
      "text/plain": [
       "array([ 0,  1,  2,  3,  4,  5,  6,  7,  8,  9, 10, 11, 12, 13, 14])"
      ]
     },
     "execution_count": 24,
     "metadata": {},
     "output_type": "execute_result"
    }
   ],
   "source": [
    "np.set_printoptions(threshold=6)\n",
    "a = np.arange(15)\n",
    "\n",
    "# Solution\n",
    "np.set_printoptions(threshold=np.inf)\n",
    "a\n",
    "#> array([ 0,  1,  2,  3,  4,  5,  6,  7,  8,  9, 10, 11, 12, 13, 14])"
   ]
  },
  {
   "cell_type": "markdown",
   "id": "a17ba5b0-1161-403d-8a5b-66c49681e19a",
   "metadata": {},
   "source": [
    "### 25. How to import a dataset with numbers and texts keeping the text intact in python numpy?"
   ]
  },
  {
   "cell_type": "code",
   "execution_count": 25,
   "id": "ef69fc62-92d2-4b12-b2df-baca8e56182f",
   "metadata": {},
   "outputs": [
    {
     "data": {
      "text/plain": [
       "array([[b'5.1', b'3.5', b'1.4', b'0.2', b'Iris-setosa'],\n",
       "       [b'4.9', b'3.0', b'1.4', b'0.2', b'Iris-setosa'],\n",
       "       [b'4.7', b'3.2', b'1.3', b'0.2', b'Iris-setosa']], dtype=object)"
      ]
     },
     "execution_count": 25,
     "metadata": {},
     "output_type": "execute_result"
    }
   ],
   "source": [
    "url = 'https://archive.ics.uci.edu/ml/machine-learning-databases/iris/iris.data'\n",
    "iris = np.genfromtxt(url, delimiter=',', dtype='object')\n",
    "names = ('sepallength', 'sepalwidth', 'petallength', 'petalwidth', 'species')\n",
    "\n",
    "# Print the first 3 rows\n",
    "iris[:3]\n",
    "#> array([[b'5.1', b'3.5', b'1.4', b'0.2', b'Iris-setosa'],\n",
    "#>        [b'4.9', b'3.0', b'1.4', b'0.2', b'Iris-setosa'],\n",
    "#>        [b'4.7', b'3.2', b'1.3', b'0.2', b'Iris-setosa']], dtype=object)"
   ]
  },
  {
   "cell_type": "markdown",
   "id": "6fb1e130-822b-43ea-9bf0-c18810109319",
   "metadata": {},
   "source": [
    "### 26. How to extract a particular column from 1D array of tuples?"
   ]
  },
  {
   "cell_type": "markdown",
   "id": "2c9f7728-0f03-4f3b-ab95-0cc97281b075",
   "metadata": {},
   "source": [
    "url = 'https://archive.ics.uci.edu/ml/machine-learning-databases/iris/iris.data'\n",
    "iris_1d = np.genfromtxt(url, delimiter=',', dtype=None)\n",
    "\n",
    "species = np.array([row[4] for row in iris_1d])\n",
    "species[:5]\n",
    "#> (150,)\n",
    "#> array([b'Iris-setosa', b'Iris-setosa', b'Iris-setosa', b'Iris-setosa',\n",
    "#>        b'Iris-setosa'],\n",
    "#>       dtype='|S18')"
   ]
  },
  {
   "cell_type": "markdown",
   "id": "bcfb2e01-b18e-4c1e-915f-17daa056dc1f",
   "metadata": {},
   "source": [
    "### 27. How to convert a 1d array of tuples to a 2d numpy array?"
   ]
  },
  {
   "cell_type": "code",
   "execution_count": 26,
   "id": "534867f4-58eb-45da-9be6-3b33c534c89d",
   "metadata": {},
   "outputs": [
    {
     "data": {
      "text/plain": [
       "array([[5.1, 3.5, 1.4, 0.2],\n",
       "       [4.9, 3. , 1.4, 0.2],\n",
       "       [4.7, 3.2, 1.3, 0.2],\n",
       "       [4.6, 3.1, 1.5, 0.2]])"
      ]
     },
     "execution_count": 26,
     "metadata": {},
     "output_type": "execute_result"
    }
   ],
   "source": [
    "url = 'https://archive.ics.uci.edu/ml/machine-learning-databases/iris/iris.data'\n",
    "iris_1d = np.genfromtxt(url, delimiter=',', dtype=None)\n",
    "\n",
    "# Method 1: Convert each row to a list and get the first 4 items\n",
    "iris_2d = np.array([row.tolist()[:4] for row in iris_1d])\n",
    "iris_2d[:4]\n",
    "\n",
    "# Alt Method 2: Import only the first 4 columns from source url\n",
    "iris_2d = np.genfromtxt(url, delimiter=',', dtype='float', usecols=[0,1,2,3])\n",
    "iris_2d[:4]"
   ]
  },
  {
   "cell_type": "markdown",
   "id": "d342c78d-bfc3-4eba-9043-07aed89e93b6",
   "metadata": {},
   "source": [
    "### 28. How to compute the mean, median, standard deviation of a numpy array?"
   ]
  },
  {
   "cell_type": "code",
   "execution_count": 27,
   "id": "0a693e56-fede-4cba-aaff-7cca8fe7d5da",
   "metadata": {},
   "outputs": [
    {
     "name": "stdout",
     "output_type": "stream",
     "text": [
      "5.843333333333334 5.8 0.8253012917851409\n"
     ]
    }
   ],
   "source": [
    "url = 'https://archive.ics.uci.edu/ml/machine-learning-databases/iris/iris.data'\n",
    "iris = np.genfromtxt(url, delimiter=',', dtype='object')\n",
    "sepallength = np.genfromtxt(url, delimiter=',', dtype='float', usecols=[0])\n",
    "\n",
    "mu, med, sd = np.mean(sepallength), np.median(sepallength), np.std(sepallength)\n",
    "print(mu, med, sd)"
   ]
  },
  {
   "cell_type": "markdown",
   "id": "96b37881-7000-4928-ba8e-986ff2dd32b8",
   "metadata": {},
   "source": [
    "### 29. How to normalize an array so the values range exactly between 0 and 1?"
   ]
  },
  {
   "cell_type": "code",
   "execution_count": 28,
   "id": "5420c2b8-9285-48dc-88da-16287b7103e7",
   "metadata": {},
   "outputs": [
    {
     "name": "stdout",
     "output_type": "stream",
     "text": [
      "[0.222222 0.166667 0.111111 0.083333 0.194444 0.305556 0.083333 0.194444\n",
      " 0.027778 0.166667 0.305556 0.138889 0.138889 0.       0.416667 0.388889\n",
      " 0.305556 0.222222 0.388889 0.222222 0.305556 0.222222 0.083333 0.222222\n",
      " 0.138889 0.194444 0.194444 0.25     0.25     0.111111 0.138889 0.305556\n",
      " 0.25     0.333333 0.166667 0.194444 0.333333 0.166667 0.027778 0.222222\n",
      " 0.194444 0.055556 0.027778 0.194444 0.222222 0.138889 0.222222 0.083333\n",
      " 0.277778 0.194444 0.75     0.583333 0.722222 0.333333 0.611111 0.388889\n",
      " 0.555556 0.166667 0.638889 0.25     0.194444 0.444444 0.472222 0.5\n",
      " 0.361111 0.666667 0.361111 0.416667 0.527778 0.361111 0.444444 0.5\n",
      " 0.555556 0.5      0.583333 0.638889 0.694444 0.666667 0.472222 0.388889\n",
      " 0.333333 0.333333 0.416667 0.472222 0.305556 0.472222 0.666667 0.555556\n",
      " 0.361111 0.333333 0.333333 0.5      0.416667 0.194444 0.361111 0.388889\n",
      " 0.388889 0.527778 0.222222 0.388889 0.555556 0.416667 0.777778 0.555556\n",
      " 0.611111 0.916667 0.166667 0.833333 0.666667 0.805556 0.611111 0.583333\n",
      " 0.694444 0.388889 0.416667 0.583333 0.611111 0.944444 0.944444 0.472222\n",
      " 0.722222 0.361111 0.944444 0.555556 0.666667 0.805556 0.527778 0.5\n",
      " 0.583333 0.805556 0.861111 1.       0.583333 0.555556 0.5      0.944444\n",
      " 0.555556 0.583333 0.472222 0.722222 0.666667 0.722222 0.416667 0.694444\n",
      " 0.666667 0.666667 0.555556 0.611111 0.527778 0.444444]\n"
     ]
    }
   ],
   "source": [
    "url = 'https://archive.ics.uci.edu/ml/machine-learning-databases/iris/iris.data'\n",
    "sepallength = np.genfromtxt(url, delimiter=',', dtype='float', usecols=[0])\n",
    "\n",
    "Smax, Smin = sepallength.max(), sepallength.min()\n",
    "S = (sepallength - Smin)/(Smax-Smin)\n",
    "\n",
    "\"\"\"\n",
    "sepallength - Smin: Verschiebt die Werte, sodass das Minimum (Smin) auf 0 gesetzt wird.\n",
    "Division durch (Smax - Smin): Skaliert die Werte, sodass das Maximum (Smax) auf 1 gesetzt wird.\n",
    "\"\"\"\n",
    "print(S)"
   ]
  },
  {
   "cell_type": "markdown",
   "id": "0e95d25d-cc11-4969-b3b7-c51d6bd3a24e",
   "metadata": {},
   "source": [
    "### 30. How to compute the softmax score?"
   ]
  },
  {
   "cell_type": "code",
   "execution_count": 29,
   "id": "1ebeee14-a95a-4012-a477-6e5bf04cda69",
   "metadata": {},
   "outputs": [
    {
     "name": "stdout",
     "output_type": "stream",
     "text": [
      "[0.002 0.002 0.001 0.001 0.002 0.003 0.001 0.002 0.001 0.002 0.003 0.002\n",
      " 0.002 0.001 0.004 0.004 0.003 0.002 0.004 0.002 0.003 0.002 0.001 0.002\n",
      " 0.002 0.002 0.002 0.002 0.002 0.001 0.002 0.003 0.002 0.003 0.002 0.002\n",
      " 0.003 0.002 0.001 0.002 0.002 0.001 0.001 0.002 0.002 0.002 0.002 0.001\n",
      " 0.003 0.002 0.015 0.008 0.013 0.003 0.009 0.004 0.007 0.002 0.01  0.002\n",
      " 0.002 0.005 0.005 0.006 0.004 0.011 0.004 0.004 0.007 0.004 0.005 0.006\n",
      " 0.007 0.006 0.008 0.01  0.012 0.011 0.005 0.004 0.003 0.003 0.004 0.005\n",
      " 0.003 0.005 0.011 0.007 0.004 0.003 0.003 0.006 0.004 0.002 0.004 0.004\n",
      " 0.004 0.007 0.002 0.004 0.007 0.004 0.016 0.007 0.009 0.027 0.002 0.02\n",
      " 0.011 0.018 0.009 0.008 0.012 0.004 0.004 0.008 0.009 0.03  0.03  0.005\n",
      " 0.013 0.004 0.03  0.007 0.011 0.018 0.007 0.006 0.008 0.018 0.022 0.037\n",
      " 0.008 0.007 0.006 0.03  0.007 0.008 0.005 0.013 0.011 0.013 0.004 0.012\n",
      " 0.011 0.011 0.007 0.009 0.007 0.005]\n"
     ]
    }
   ],
   "source": [
    "url = 'https://archive.ics.uci.edu/ml/machine-learning-databases/iris/iris.data'\n",
    "iris = np.genfromtxt(url, delimiter=',', dtype='object')\n",
    "sepallength = np.array([float(row[0]) for row in iris])\n",
    "\n",
    "np.set_printoptions(precision=3)\n",
    "\n",
    "def softmax(x):\n",
    "    e_x = np.exp(x-np.max(x))\n",
    "    return e_x / e_x.sum(axis=0)\n",
    "\n",
    "print(softmax(sepallength))"
   ]
  },
  {
   "cell_type": "markdown",
   "id": "6e81eb49-e516-49fe-a04f-3bb5a9317cac",
   "metadata": {},
   "source": [
    "### 31. How to find the percentile scores of a numpy array?"
   ]
  },
  {
   "cell_type": "code",
   "execution_count": 30,
   "id": "ae853e78-ee80-4029-a239-012d87e917e8",
   "metadata": {},
   "outputs": [
    {
     "data": {
      "text/plain": [
       "array([4.6  , 7.255])"
      ]
     },
     "execution_count": 30,
     "metadata": {},
     "output_type": "execute_result"
    }
   ],
   "source": [
    "url = 'https://archive.ics.uci.edu/ml/machine-learning-databases/iris/iris.data'\n",
    "sepallength = np.genfromtxt(url, delimiter=',', dtype='float', usecols=[0])\n",
    "\n",
    "\n",
    "np.percentile(sepallength, q=[5, 95])"
   ]
  },
  {
   "cell_type": "markdown",
   "id": "ede0cc6e-6645-4a22-be73-2183617f55a0",
   "metadata": {},
   "source": [
    "### 32. How to insert values at random positions in an array?"
   ]
  },
  {
   "cell_type": "code",
   "execution_count": 31,
   "id": "6650cd69-146d-4852-b09d-e011a2c4cba8",
   "metadata": {},
   "outputs": [
    {
     "name": "stdout",
     "output_type": "stream",
     "text": [
      "[[b'5.1' b'3.5' b'1.4' b'0.2' b'Iris-setosa']\n",
      " [b'4.9' b'3.0' b'1.4' b'0.2' b'Iris-setosa']\n",
      " [b'4.7' b'3.2' b'1.3' b'0.2' b'Iris-setosa']\n",
      " [b'4.6' b'3.1' b'1.5' b'0.2' b'Iris-setosa']\n",
      " [b'5.0' b'3.6' b'1.4' b'0.2' b'Iris-setosa']\n",
      " [b'5.4' b'3.9' b'1.7' b'0.4' b'Iris-setosa']\n",
      " [b'4.6' b'3.4' b'1.4' b'0.3' b'Iris-setosa']\n",
      " [b'5.0' b'3.4' b'1.5' b'0.2' b'Iris-setosa']\n",
      " [b'4.4' nan b'1.4' b'0.2' b'Iris-setosa']\n",
      " [b'4.9' b'3.1' b'1.5' b'0.1' b'Iris-setosa']]\n"
     ]
    }
   ],
   "source": [
    "url = 'https://archive.ics.uci.edu/ml/machine-learning-databases/iris/iris.data'\n",
    "iris_2d = np.genfromtxt(url, delimiter=',', dtype='object')\n",
    "\n",
    "# Method 1\n",
    "i, j = np.where(iris_2d)\n",
    "\n",
    "# i, j contain the row numbers and column numbers of 600 elements of iris_x\n",
    "np.random.seed(100)\n",
    "iris_2d[np.random.choice((i), 20), np.random.choice((j), 20)] = np.nan\n",
    "\n",
    "# Method 2\n",
    "np.random.seed(100)\n",
    "iris_2d[np.random.randint(150, size=20), np.random.randint(4, size=20)] = np.nan\n",
    "\n",
    "# Print first 10 rows\n",
    "print(iris_2d[:10])"
   ]
  },
  {
   "cell_type": "markdown",
   "id": "df8d3b6a-5f59-44df-8a26-679b8650258d",
   "metadata": {},
   "source": [
    "### 33. How to find the position of missing values in numpy array?"
   ]
  },
  {
   "cell_type": "code",
   "execution_count": 32,
   "id": "39feda4d-9aac-48dc-a370-51415749423b",
   "metadata": {},
   "outputs": [
    {
     "name": "stdout",
     "output_type": "stream",
     "text": [
      "Number of missing values: \n",
      " 5\n",
      "Position of missing values: \n",
      " (array([ 38,  80, 106, 113, 121]),)\n"
     ]
    }
   ],
   "source": [
    "url = 'https://archive.ics.uci.edu/ml/machine-learning-databases/iris/iris.data'\n",
    "iris_2d = np.genfromtxt(url, delimiter=',', dtype='float', usecols=[0,1,2,3])\n",
    "iris_2d[np.random.randint(150, size=20), np.random.randint(4, size=20)] = np.nan\n",
    "\n",
    "# Solution\n",
    "print(\"Number of missing values: \\n\", np.isnan(iris_2d[:, 0]).sum())\n",
    "print(\"Position of missing values: \\n\", np.where(np.isnan(iris_2d[:, 0])))\n",
    "#> Number of missing values: \n",
    "#>  5\n",
    "#> Position of missing values: \n",
    "#>  (array([ 39,  88,  99, 130, 147]),)"
   ]
  },
  {
   "cell_type": "markdown",
   "id": "9819f6bf-23f8-4a25-954e-eab6a5688a28",
   "metadata": {},
   "source": [
    "### 34. How to filter a numpy array based on two or more conditions?"
   ]
  },
  {
   "cell_type": "code",
   "execution_count": 33,
   "id": "1906edea-d0f3-4b4c-a2ae-ba136aa59156",
   "metadata": {},
   "outputs": [
    {
     "data": {
      "text/plain": [
       "array([[4.8, 3.4, 1.6, 0.2],\n",
       "       [4.8, 3.4, 1.9, 0.2],\n",
       "       [4.7, 3.2, 1.6, 0.2],\n",
       "       [4.8, 3.1, 1.6, 0.2],\n",
       "       [4.9, 2.4, 3.3, 1. ],\n",
       "       [4.9, 2.5, 4.5, 1.7]])"
      ]
     },
     "execution_count": 33,
     "metadata": {},
     "output_type": "execute_result"
    }
   ],
   "source": [
    "url = 'https://archive.ics.uci.edu/ml/machine-learning-databases/iris/iris.data'\n",
    "iris_2d = np.genfromtxt(url, delimiter=',', dtype='float', usecols=[0,1,2,3])\n",
    "\n",
    "# Solution\n",
    "condition = (iris_2d[:, 2] > 1.5) & (iris_2d[:, 0] < 5.0)\n",
    "iris_2d[condition]\n",
    "#> array([[ 4.8,  3.4,  1.6,  0.2],\n",
    "#>        [ 4.8,  3.4,  1.9,  0.2],\n",
    "#>        [ 4.7,  3.2,  1.6,  0.2],\n",
    "#>        [ 4.8,  3.1,  1.6,  0.2],\n",
    "#>        [ 4.9,  2.4,  3.3,  1. ],\n",
    "#>        [ 4.9,  2.5,  4.5,  1.7]])"
   ]
  },
  {
   "cell_type": "markdown",
   "id": "d31fbe4b-2644-4fcc-9417-993b88c98b9c",
   "metadata": {},
   "source": [
    "### 35. How to drop rows that contain a missing value from a numpy array?"
   ]
  },
  {
   "cell_type": "code",
   "execution_count": 34,
   "id": "0d764e5a-d33e-4538-b160-eb5e1fbdb941",
   "metadata": {},
   "outputs": [
    {
     "data": {
      "text/plain": [
       "array([[4.9, 3. , 1.4, 0.2],\n",
       "       [4.7, 3.2, 1.3, 0.2],\n",
       "       [4.6, 3.1, 1.5, 0.2],\n",
       "       [5. , 3.6, 1.4, 0.2],\n",
       "       [4.6, 3.4, 1.4, 0.3]])"
      ]
     },
     "execution_count": 34,
     "metadata": {},
     "output_type": "execute_result"
    }
   ],
   "source": [
    "url = 'https://archive.ics.uci.edu/ml/machine-learning-databases/iris/iris.data'\n",
    "iris_2d = np.genfromtxt(url, delimiter=',', dtype='float', usecols=[0,1,2,3])\n",
    "iris_2d[np.random.randint(150, size=20), np.random.randint(4, size=20)] = np.nan\n",
    "\n",
    "# Solution\n",
    "# No direct numpy function for this.\n",
    "# Method 1:\n",
    "any_nan_in_row = np.array([~np.any(np.isnan(row)) for row in iris_2d])\n",
    "iris_2d[any_nan_in_row][:5]\n",
    "\n",
    "# Method 2: (By Rong)\n",
    "iris_2d[np.sum(np.isnan(iris_2d), axis = 1) == 0][:5]\n",
    "#> array([[ 4.9,  3. ,  1.4,  0.2],\n",
    "#>        [ 4.7,  3.2,  1.3,  0.2],\n",
    "#>        [ 4.6,  3.1,  1.5,  0.2],\n",
    "#>        [ 5. ,  3.6,  1.4,  0.2],\n",
    "#>        [ 5.4,  3.9,  1.7,  0.4]])"
   ]
  },
  {
   "cell_type": "code",
   "execution_count": 35,
   "id": "701316ca-b474-4ff5-9767-668ae0143cdb",
   "metadata": {},
   "outputs": [
    {
     "name": "stdout",
     "output_type": "stream",
     "text": [
      "Requirement already satisfied: scipy in c:\\users\\qather\\appdata\\local\\programs\\python\\python312\\lib\\site-packages (1.14.1)\n",
      "Requirement already satisfied: numpy<2.3,>=1.23.5 in c:\\users\\qather\\appdata\\local\\programs\\python\\python312\\lib\\site-packages (from scipy) (2.1.3)\n"
     ]
    },
    {
     "name": "stderr",
     "output_type": "stream",
     "text": [
      "WARNING: There was an error checking the latest version of pip.\n"
     ]
    }
   ],
   "source": [
    "!pip install scipy"
   ]
  },
  {
   "cell_type": "markdown",
   "id": "183180be-2b7b-4cf7-af61-1a80b4f1a27b",
   "metadata": {},
   "source": [
    "### 36. How to find the correlation between two columns of a numpy array?"
   ]
  },
  {
   "cell_type": "code",
   "execution_count": 36,
   "id": "a8c9fe53-dff7-42c6-8865-35a249155f54",
   "metadata": {},
   "outputs": [
    {
     "name": "stdout",
     "output_type": "stream",
     "text": [
      "0.871754157304871 1.0384540627942323e-47\n"
     ]
    },
    {
     "data": {
      "text/plain": [
       "'\\nWas bedeutet das in der Praxis?\\n\\n    Sehr schwache bis keine Korrelation (∣r∣<0.1∣r∣<0.1):\\n        Es gibt keinen oder nur einen minimalen linearen Zusammenhang zwischen den Variablen.\\n\\n    Schwache Korrelation (0.1≤∣r∣<0.30.1≤∣r∣<0.3):\\n        Es gibt einen erkennbaren, aber nicht besonders starken linearen Zusammenhang.\\n\\n    Mäßige Korrelation (0.3≤∣r∣<0.50.3≤∣r∣<0.5):\\n        Die Variablen hängen spürbar linear zusammen, der Zusammenhang ist jedoch nicht perfekt.\\n\\n    Starke Korrelation (0.5≤∣r∣<0.70.5≤∣r∣<0.7):\\n        Es besteht ein deutlicher linearer Zusammenhang. Änderungen in einer Variable sind stark mit Änderungen in der anderen verbunden.\\n\\n    Sehr starke Korrelation (∣r∣≥0.7∣r∣≥0.7):\\n        Ein nahezu perfekter linearer Zusammenhang. Die Werte der einen Variable können fast vollständig durch die andere vorhergesagt werden.\\n\\nZusammenhang zwischen Vorzeichen und Richtung\\n\\n    r>0r>0: Positive Korrelation\\n        Wenn eine Variable steigt, steigt die andere ebenfalls (z. B. Körpergröße und Schuhgröße).\\n    r<0r<0: Negative Korrelation\\n        Wenn eine Variable steigt, sinkt die andere (z. B. Außentemperatur und Heizkosten).\\n\\n-------------------------------\\nWas ist der p-Wert?\\n\\nDer p-Wert gibt an, wie wahrscheinlich es ist, dass die beobachtete Korrelation durch Zufall entstanden ist:\\n\\n    Kleiner p-Wert (<0.01<0.01):\\n        Die Korrelation ist statistisch signifikant. Es ist unwahrscheinlich, dass sie durch Zufall entstanden ist.\\n    Großer p-Wert (>0.05>0.05):\\n        Die Korrelation ist nicht signifikant.\\n\\n'"
      ]
     },
     "execution_count": 36,
     "metadata": {},
     "output_type": "execute_result"
    }
   ],
   "source": [
    "url = 'https://archive.ics.uci.edu/ml/machine-learning-databases/iris/iris.data'\n",
    "iris = np.genfromtxt(url, delimiter=',', dtype='float', usecols=[0,1,2,3])\n",
    "\n",
    "# Solution 1\n",
    "np.corrcoef(iris[:, 0], iris[:, 2])[0, 1]\n",
    "\n",
    "# Solution 2\n",
    "from scipy.stats import pearsonr  \n",
    "corr, p_value = pearsonr(iris[:, 0], iris[:, 2])\n",
    "print(corr,p_value)\n",
    "\n",
    "\"\"\"\n",
    "Was bedeutet das in der Praxis?\n",
    "\n",
    "    Sehr schwache bis keine Korrelation (∣r∣<0.1∣r∣<0.1):\n",
    "        Es gibt keinen oder nur einen minimalen linearen Zusammenhang zwischen den Variablen.\n",
    "\n",
    "    Schwache Korrelation (0.1≤∣r∣<0.30.1≤∣r∣<0.3):\n",
    "        Es gibt einen erkennbaren, aber nicht besonders starken linearen Zusammenhang.\n",
    "\n",
    "    Mäßige Korrelation (0.3≤∣r∣<0.50.3≤∣r∣<0.5):\n",
    "        Die Variablen hängen spürbar linear zusammen, der Zusammenhang ist jedoch nicht perfekt.\n",
    "\n",
    "    Starke Korrelation (0.5≤∣r∣<0.70.5≤∣r∣<0.7):\n",
    "        Es besteht ein deutlicher linearer Zusammenhang. Änderungen in einer Variable sind stark mit Änderungen in der anderen verbunden.\n",
    "\n",
    "    Sehr starke Korrelation (∣r∣≥0.7∣r∣≥0.7):\n",
    "        Ein nahezu perfekter linearer Zusammenhang. Die Werte der einen Variable können fast vollständig durch die andere vorhergesagt werden.\n",
    "\n",
    "Zusammenhang zwischen Vorzeichen und Richtung\n",
    "\n",
    "    r>0r>0: Positive Korrelation\n",
    "        Wenn eine Variable steigt, steigt die andere ebenfalls (z. B. Körpergröße und Schuhgröße).\n",
    "    r<0r<0: Negative Korrelation\n",
    "        Wenn eine Variable steigt, sinkt die andere (z. B. Außentemperatur und Heizkosten).\n",
    "\n",
    "-------------------------------\n",
    "Was ist der p-Wert?\n",
    "\n",
    "Der p-Wert gibt an, wie wahrscheinlich es ist, dass die beobachtete Korrelation durch Zufall entstanden ist:\n",
    "\n",
    "    Kleiner p-Wert (<0.01<0.01):\n",
    "        Die Korrelation ist statistisch signifikant. Es ist unwahrscheinlich, dass sie durch Zufall entstanden ist.\n",
    "    Großer p-Wert (>0.05>0.05):\n",
    "        Die Korrelation ist nicht signifikant.\n",
    "\n",
    "\"\"\""
   ]
  },
  {
   "cell_type": "markdown",
   "id": "0c4fc125-7279-4be0-b113-7b45c97e3101",
   "metadata": {},
   "source": [
    "### 37. How to find if a given array has any null values?"
   ]
  },
  {
   "cell_type": "code",
   "execution_count": 37,
   "id": "d2c9fea5-8717-46ae-8f99-efe669f8d92d",
   "metadata": {},
   "outputs": [
    {
     "data": {
      "text/plain": [
       "np.False_"
      ]
     },
     "execution_count": 37,
     "metadata": {},
     "output_type": "execute_result"
    }
   ],
   "source": [
    "url = 'https://archive.ics.uci.edu/ml/machine-learning-databases/iris/iris.data'\n",
    "iris_2d = np.genfromtxt(url, delimiter=',', dtype='float', usecols=[0,1,2,3])\n",
    "\n",
    "np.isnan(iris_2d).any()\n",
    "#> False"
   ]
  },
  {
   "cell_type": "markdown",
   "id": "1a95f26f-0c39-49c1-a160-9f45d7f3111a",
   "metadata": {},
   "source": [
    "### 38. How to replace all missing values with 0 in a numpy array?"
   ]
  },
  {
   "cell_type": "code",
   "execution_count": 38,
   "id": "5c96636b-7445-4bbf-9230-5cab6a0cd23c",
   "metadata": {},
   "outputs": [
    {
     "data": {
      "text/plain": [
       "array([[5.1, 3.5, 1.4, 0.2],\n",
       "       [4.9, 3. , 1.4, 0.2],\n",
       "       [4.7, 3.2, 1.3, 0.2],\n",
       "       [4.6, 3.1, 1.5, 0.2]])"
      ]
     },
     "execution_count": 38,
     "metadata": {},
     "output_type": "execute_result"
    }
   ],
   "source": [
    "url = 'https://archive.ics.uci.edu/ml/machine-learning-databases/iris/iris.data'\n",
    "iris_2d = np.genfromtxt(url, delimiter=',', dtype='float', usecols=[0,1,2,3])\n",
    "iris_2d[np.random.randint(150, size=20), np.random.randint(4, size=20)] = np.nan\n",
    "\n",
    "iris_2d[np.isnan(iris_2d)] = 0\n",
    "iris_2d[:4]\n"
   ]
  },
  {
   "cell_type": "markdown",
   "id": "248e57f2-f435-42da-a26c-d9ad2087d897",
   "metadata": {},
   "source": [
    "### 39. How to find the count of unique values in a numpy array?"
   ]
  },
  {
   "cell_type": "code",
   "execution_count": 39,
   "id": "9a4e70f8-e164-4f6a-a8ee-9e6de89eba8c",
   "metadata": {},
   "outputs": [
    {
     "name": "stdout",
     "output_type": "stream",
     "text": [
      "[b'Iris-setosa' b'Iris-setosa' b'Iris-setosa' b'Iris-setosa'\n",
      " b'Iris-setosa' b'Iris-setosa' b'Iris-setosa' b'Iris-setosa'\n",
      " b'Iris-setosa' b'Iris-setosa' b'Iris-setosa' b'Iris-setosa'\n",
      " b'Iris-setosa' b'Iris-setosa' b'Iris-setosa' b'Iris-setosa'\n",
      " b'Iris-setosa' b'Iris-setosa' b'Iris-setosa' b'Iris-setosa'\n",
      " b'Iris-setosa' b'Iris-setosa' b'Iris-setosa' b'Iris-setosa'\n",
      " b'Iris-setosa' b'Iris-setosa' b'Iris-setosa' b'Iris-setosa'\n",
      " b'Iris-setosa' b'Iris-setosa' b'Iris-setosa' b'Iris-setosa'\n",
      " b'Iris-setosa' b'Iris-setosa' b'Iris-setosa' b'Iris-setosa'\n",
      " b'Iris-setosa' b'Iris-setosa' b'Iris-setosa' b'Iris-setosa'\n",
      " b'Iris-setosa' b'Iris-setosa' b'Iris-setosa' b'Iris-setosa'\n",
      " b'Iris-setosa' b'Iris-setosa' b'Iris-setosa' b'Iris-setosa'\n",
      " b'Iris-setosa' b'Iris-setosa' b'Iris-versicolor' b'Iris-versicolor'\n",
      " b'Iris-versicolor' b'Iris-versicolor' b'Iris-versicolor'\n",
      " b'Iris-versicolor' b'Iris-versicolor' b'Iris-versicolor'\n",
      " b'Iris-versicolor' b'Iris-versicolor' b'Iris-versicolor'\n",
      " b'Iris-versicolor' b'Iris-versicolor' b'Iris-versicolor'\n",
      " b'Iris-versicolor' b'Iris-versicolor' b'Iris-versicolor'\n",
      " b'Iris-versicolor' b'Iris-versicolor' b'Iris-versicolor'\n",
      " b'Iris-versicolor' b'Iris-versicolor' b'Iris-versicolor'\n",
      " b'Iris-versicolor' b'Iris-versicolor' b'Iris-versicolor'\n",
      " b'Iris-versicolor' b'Iris-versicolor' b'Iris-versicolor'\n",
      " b'Iris-versicolor' b'Iris-versicolor' b'Iris-versicolor'\n",
      " b'Iris-versicolor' b'Iris-versicolor' b'Iris-versicolor'\n",
      " b'Iris-versicolor' b'Iris-versicolor' b'Iris-versicolor'\n",
      " b'Iris-versicolor' b'Iris-versicolor' b'Iris-versicolor'\n",
      " b'Iris-versicolor' b'Iris-versicolor' b'Iris-versicolor'\n",
      " b'Iris-versicolor' b'Iris-versicolor' b'Iris-versicolor'\n",
      " b'Iris-versicolor' b'Iris-versicolor' b'Iris-versicolor'\n",
      " b'Iris-virginica' b'Iris-virginica' b'Iris-virginica' b'Iris-virginica'\n",
      " b'Iris-virginica' b'Iris-virginica' b'Iris-virginica' b'Iris-virginica'\n",
      " b'Iris-virginica' b'Iris-virginica' b'Iris-virginica' b'Iris-virginica'\n",
      " b'Iris-virginica' b'Iris-virginica' b'Iris-virginica' b'Iris-virginica'\n",
      " b'Iris-virginica' b'Iris-virginica' b'Iris-virginica' b'Iris-virginica'\n",
      " b'Iris-virginica' b'Iris-virginica' b'Iris-virginica' b'Iris-virginica'\n",
      " b'Iris-virginica' b'Iris-virginica' b'Iris-virginica' b'Iris-virginica'\n",
      " b'Iris-virginica' b'Iris-virginica' b'Iris-virginica' b'Iris-virginica'\n",
      " b'Iris-virginica' b'Iris-virginica' b'Iris-virginica' b'Iris-virginica'\n",
      " b'Iris-virginica' b'Iris-virginica' b'Iris-virginica' b'Iris-virginica'\n",
      " b'Iris-virginica' b'Iris-virginica' b'Iris-virginica' b'Iris-virginica'\n",
      " b'Iris-virginica' b'Iris-virginica' b'Iris-virginica' b'Iris-virginica'\n",
      " b'Iris-virginica' b'Iris-virginica']\n"
     ]
    },
    {
     "data": {
      "text/plain": [
       "(array([b'Iris-setosa', b'Iris-versicolor', b'Iris-virginica'],\n",
       "       dtype='|S15'),\n",
       " array([50, 50, 50]))"
      ]
     },
     "execution_count": 39,
     "metadata": {},
     "output_type": "execute_result"
    }
   ],
   "source": [
    "url = 'https://archive.ics.uci.edu/ml/machine-learning-databases/iris/iris.data'\n",
    "iris = np.genfromtxt(url, delimiter=',', dtype='object')\n",
    "names = ('sepallength', 'sepalwidth', 'petallength', 'petalwidth', 'species')\n",
    "\n",
    "# Solution\n",
    "# Extract the species column as an array\n",
    "species = np.array([row.tolist()[4] for row in iris])\n",
    "print(species)\n",
    "# Get the unique values and the counts\n",
    "np.unique(species, return_counts=True)\n",
    "#> (array([b'Iris-setosa', b'Iris-versicolor', b'Iris-virginica'],\n",
    "#>        dtype='|S15'), array([50, 50, 50]))"
   ]
  },
  {
   "cell_type": "markdown",
   "id": "7960123c-a1f4-4860-bf67-97a3a51c0fdd",
   "metadata": {},
   "source": [
    "### 40. How to convert a numeric to a categorical (text) array?"
   ]
  },
  {
   "cell_type": "code",
   "execution_count": 40,
   "id": "950aecea-0146-40da-ae6f-438a50d7d3a5",
   "metadata": {},
   "outputs": [
    {
     "data": {
      "text/plain": [
       "'\\nNumerische Werte in Kategorien einteilen:\\n\\n    Verwenden von np.digitize, um numerische Werte basierend auf vordefinierten Intervallen (Bins) zu klassifizieren.\\n\\nMapping der Kategorien:\\n\\n    Mit einem Dictionary (label_map) werden die numerischen Indizes in textuelle Kategorien umgewandelt.\\n\\nBeispielergebnis:\\n\\n    Die Petal Length-Werte des Iris-Datensatzes werden in small, medium und large eingeteilt.\\n\\n'"
      ]
     },
     "execution_count": 40,
     "metadata": {},
     "output_type": "execute_result"
    }
   ],
   "source": [
    "url = 'https://archive.ics.uci.edu/ml/machine-learning-databases/iris/iris.data'\n",
    "iris = np.genfromtxt(url, delimiter=',', dtype='object')\n",
    "names = ('sepallength', 'sepalwidth', 'petallength', 'petalwidth', 'species')\n",
    "\n",
    "# Bin petallength \n",
    "petal_length_bin = np.digitize(iris[:, 2].astype('float'), [0, 3, 5, 10])\n",
    "\n",
    "# Map it to respective category\n",
    "label_map = {1: 'small', 2: 'medium', 3: 'large', 4: np.nan}\n",
    "petal_length_cat = [label_map[x] for x in petal_length_bin]\n",
    "\n",
    "# View\n",
    "petal_length_cat[:4]\n",
    "#> ['small', 'small', 'small', 'small']\n",
    "\n",
    "\"\"\"\n",
    "Numerische Werte in Kategorien einteilen:\n",
    "\n",
    "    Verwenden von np.digitize, um numerische Werte basierend auf vordefinierten Intervallen (Bins) zu klassifizieren.\n",
    "\n",
    "Mapping der Kategorien:\n",
    "\n",
    "    Mit einem Dictionary (label_map) werden die numerischen Indizes in textuelle Kategorien umgewandelt.\n",
    "\n",
    "Beispielergebnis:\n",
    "\n",
    "    Die Petal Length-Werte des Iris-Datensatzes werden in small, medium und large eingeteilt.\n",
    "\n",
    "\"\"\""
   ]
  },
  {
   "cell_type": "markdown",
   "id": "0ee17ebc-00b3-413a-808e-4a44e840a97e",
   "metadata": {},
   "source": [
    "### 41. How to create a new column from existing columns of a numpy array?"
   ]
  },
  {
   "cell_type": "code",
   "execution_count": 41,
   "id": "69825793-ecfb-44b9-8244-6ddd7315c39b",
   "metadata": {},
   "outputs": [
    {
     "name": "stdout",
     "output_type": "stream",
     "text": [
      "[[ 38.133]\n",
      " [ 35.2  ]\n",
      " [ 30.072]\n",
      " [ 33.238]\n",
      " [ 36.652]\n",
      " [ 51.912]\n",
      " [ 31.022]\n",
      " [ 39.27 ]\n",
      " [ 28.383]\n",
      " [ 37.715]\n",
      " [ 45.804]\n",
      " [ 38.604]\n",
      " [ 33.778]\n",
      " [ 21.299]\n",
      " [ 42.273]\n",
      " [ 51.035]\n",
      " [ 39.697]\n",
      " [ 38.133]\n",
      " [ 57.84 ]\n",
      " [ 40.856]\n",
      " [ 51.912]\n",
      " [ 40.856]\n",
      " [ 22.159]\n",
      " [ 46.304]\n",
      " [ 45.842]\n",
      " [ 41.888]\n",
      " [ 41.888]\n",
      " [ 42.474]\n",
      " [ 39.643]\n",
      " [ 37.012]\n",
      " [ 38.604]\n",
      " [ 45.804]\n",
      " [ 42.474]\n",
      " [ 44.349]\n",
      " [ 37.715]\n",
      " [ 31.416]\n",
      " [ 41.181]\n",
      " [ 37.715]\n",
      " [ 26.356]\n",
      " [ 40.856]\n",
      " [ 34.034]\n",
      " [ 27.567]\n",
      " [ 26.356]\n",
      " [ 41.888]\n",
      " [ 51.751]\n",
      " [ 33.778]\n",
      " [ 43.58 ]\n",
      " [ 31.022]\n",
      " [ 44.124]\n",
      " [ 36.652]\n",
      " [241.17 ]\n",
      " [193.019]\n",
      " [244.3  ]\n",
      " [126.711]\n",
      " [203.523]\n",
      " [153.106]\n",
      " [195.347]\n",
      " [ 82.973]\n",
      " [209.833]\n",
      " [110.433]\n",
      " [ 91.63 ]\n",
      " [153.102]\n",
      " [150.796]\n",
      " [183.141]\n",
      " [118.224]\n",
      " [206.838]\n",
      " [147.781]\n",
      " [144.434]\n",
      " [181.144]\n",
      " [128.076]\n",
      " [174.974]\n",
      " [155.865]\n",
      " [203.66 ]\n",
      " [183.141]\n",
      " [184.441]\n",
      " [200.71 ]\n",
      " [232.428]\n",
      " [235.043]\n",
      " [169.646]\n",
      " [119.082]\n",
      " [120.375]\n",
      " [117.208]\n",
      " [137.388]\n",
      " [192.265]\n",
      " [137.413]\n",
      " [169.646]\n",
      " [220.941]\n",
      " [182.878]\n",
      " [134.644]\n",
      " [126.711]\n",
      " [139.382]\n",
      " [179.245]\n",
      " [140.911]\n",
      " [ 86.394]\n",
      " [137.928]\n",
      " [142.898]\n",
      " [142.898]\n",
      " [173.093]\n",
      " [ 81.713]\n",
      " [139.496]\n",
      " [249.38 ]\n",
      " [179.661]\n",
      " [311.456]\n",
      " [232.754]\n",
      " [256.616]\n",
      " [399.208]\n",
      " [113.144]\n",
      " [351.572]\n",
      " [272.65 ]\n",
      " [331.149]\n",
      " [225.645]\n",
      " [227.334]\n",
      " [266.323]\n",
      " [170.117]\n",
      " [179.661]\n",
      " [227.334]\n",
      " [243.343]\n",
      " [415.992]\n",
      " [428.41 ]\n",
      " [188.496]\n",
      " [284.185]\n",
      " [160.917]\n",
      " [415.992]\n",
      " [203.66 ]\n",
      " [267.95 ]\n",
      " [325.72 ]\n",
      " [193.221]\n",
      " [190.934]\n",
      " [240.202]\n",
      " [314.863]\n",
      " [349.802]\n",
      " [418.276]\n",
      " [240.202]\n",
      " [211.973]\n",
      " [218.211]\n",
      " [378.739]\n",
      " [232.754]\n",
      " [235.913]\n",
      " [180.956]\n",
      " [269.228]\n",
      " [263.249]\n",
      " [254.271]\n",
      " [179.661]\n",
      " [285.692]\n",
      " [267.95 ]\n",
      " [244.445]\n",
      " [207.816]\n",
      " [230.069]\n",
      " [217.373]\n",
      " [185.91 ]]\n"
     ]
    },
    {
     "data": {
      "text/plain": [
       "array([[b'5.1', b'3.5', b'1.4', b'0.2', b'Iris-setosa',\n",
       "        38.13265162927291],\n",
       "       [b'4.9', b'3.0', b'1.4', b'0.2', b'Iris-setosa',\n",
       "        35.200498485922445],\n",
       "       [b'4.7', b'3.2', b'1.3', b'0.2', b'Iris-setosa', 30.0723720777127],\n",
       "       [b'4.6', b'3.1', b'1.5', b'0.2', b'Iris-setosa',\n",
       "        33.238050274980004]], dtype=object)"
      ]
     },
     "execution_count": 41,
     "metadata": {},
     "output_type": "execute_result"
    }
   ],
   "source": [
    "url = 'https://archive.ics.uci.edu/ml/machine-learning-databases/iris/iris.data'\n",
    "iris_2d = np.genfromtxt(url, delimiter=',', dtype='object')\n",
    "\n",
    "# Solution\n",
    "# Compute volume\n",
    "sepallength = iris_2d[:, 0].astype('float')\n",
    "petallength = iris_2d[:, 2].astype('float')\n",
    "volume = (np.pi * petallength * (sepallength**2))/3\n",
    "\n",
    "\n",
    "# Introduce new dimension to match iris_2d's\n",
    "volume = volume[:, np.newaxis]\n",
    "print(volume)\n",
    "# Add the new column\n",
    "out = np.hstack([iris_2d, volume])\n",
    "\n",
    "# View\n",
    "out[:4]\n",
    "#> array([[b'5.1', b'3.5', b'1.4', b'0.2', b'Iris-setosa', 38.13265162927291],\n",
    "#>        [b'4.9', b'3.0', b'1.4', b'0.2', b'Iris-setosa', 35.200498485922445],\n",
    "#>        [b'4.7', b'3.2', b'1.3', b'0.2', b'Iris-setosa', 30.0723720777127],\n",
    "#>        [b'4.6', b'3.1', b'1.5', b'0.2', b'Iris-setosa', 33.238050274980004]], dtype=object)"
   ]
  },
  {
   "cell_type": "markdown",
   "id": "82fa82a9-db31-4416-96b5-c1217cc49660",
   "metadata": {},
   "source": [
    "### 42. How to do probabilistic sampling in numpy?"
   ]
  },
  {
   "cell_type": "code",
   "execution_count": 42,
   "id": "c51695bf-b0a5-45a4-884a-eb69d7ae537a",
   "metadata": {},
   "outputs": [
    {
     "name": "stdout",
     "output_type": "stream",
     "text": [
      "[b'Iris-setosa' b'Iris-setosa' b'Iris-setosa' b'Iris-setosa'\n",
      " b'Iris-setosa' b'Iris-setosa' b'Iris-setosa' b'Iris-setosa'\n",
      " b'Iris-setosa' b'Iris-setosa' b'Iris-setosa' b'Iris-setosa'\n",
      " b'Iris-setosa' b'Iris-setosa' b'Iris-setosa' b'Iris-setosa'\n",
      " b'Iris-setosa' b'Iris-setosa' b'Iris-setosa' b'Iris-setosa'\n",
      " b'Iris-setosa' b'Iris-setosa' b'Iris-setosa' b'Iris-setosa'\n",
      " b'Iris-setosa' b'Iris-setosa' b'Iris-setosa' b'Iris-setosa'\n",
      " b'Iris-setosa' b'Iris-setosa' b'Iris-setosa' b'Iris-setosa'\n",
      " b'Iris-setosa' b'Iris-setosa' b'Iris-setosa' b'Iris-setosa'\n",
      " b'Iris-setosa' b'Iris-setosa' b'Iris-setosa' b'Iris-setosa'\n",
      " b'Iris-setosa' b'Iris-setosa' b'Iris-setosa' b'Iris-setosa'\n",
      " b'Iris-setosa' b'Iris-setosa' b'Iris-setosa' b'Iris-setosa'\n",
      " b'Iris-setosa' b'Iris-setosa' b'Iris-versicolor' b'Iris-versicolor'\n",
      " b'Iris-versicolor' b'Iris-versicolor' b'Iris-versicolor'\n",
      " b'Iris-versicolor' b'Iris-versicolor' b'Iris-versicolor'\n",
      " b'Iris-versicolor' b'Iris-versicolor' b'Iris-versicolor'\n",
      " b'Iris-versicolor' b'Iris-versicolor' b'Iris-versicolor'\n",
      " b'Iris-versicolor' b'Iris-versicolor' b'Iris-versicolor'\n",
      " b'Iris-versicolor' b'Iris-versicolor' b'Iris-versicolor'\n",
      " b'Iris-versicolor' b'Iris-versicolor' b'Iris-versicolor'\n",
      " b'Iris-versicolor' b'Iris-versicolor' b'Iris-versicolor'\n",
      " b'Iris-versicolor' b'Iris-versicolor' b'Iris-versicolor'\n",
      " b'Iris-versicolor' b'Iris-versicolor' b'Iris-versicolor'\n",
      " b'Iris-versicolor' b'Iris-versicolor' b'Iris-versicolor'\n",
      " b'Iris-versicolor' b'Iris-versicolor' b'Iris-versicolor'\n",
      " b'Iris-versicolor' b'Iris-versicolor' b'Iris-versicolor'\n",
      " b'Iris-versicolor' b'Iris-versicolor' b'Iris-versicolor'\n",
      " b'Iris-versicolor' b'Iris-versicolor' b'Iris-versicolor'\n",
      " b'Iris-versicolor' b'Iris-versicolor' b'Iris-versicolor'\n",
      " b'Iris-virginica' b'Iris-virginica' b'Iris-virginica' b'Iris-virginica'\n",
      " b'Iris-virginica' b'Iris-virginica' b'Iris-virginica' b'Iris-virginica'\n",
      " b'Iris-virginica' b'Iris-virginica' b'Iris-virginica' b'Iris-virginica'\n",
      " b'Iris-virginica' b'Iris-virginica' b'Iris-virginica' b'Iris-virginica'\n",
      " b'Iris-virginica' b'Iris-virginica' b'Iris-virginica' b'Iris-virginica'\n",
      " b'Iris-virginica' b'Iris-virginica' b'Iris-virginica' b'Iris-virginica'\n",
      " b'Iris-virginica' b'Iris-virginica' b'Iris-virginica' b'Iris-virginica'\n",
      " b'Iris-virginica' b'Iris-virginica' b'Iris-virginica' b'Iris-virginica'\n",
      " b'Iris-virginica' b'Iris-virginica' b'Iris-virginica' b'Iris-virginica'\n",
      " b'Iris-virginica' b'Iris-virginica' b'Iris-virginica' b'Iris-virginica'\n",
      " b'Iris-virginica' b'Iris-virginica' b'Iris-virginica' b'Iris-virginica'\n",
      " b'Iris-virginica' b'Iris-virginica' b'Iris-virginica' b'Iris-virginica'\n",
      " b'Iris-virginica' b'Iris-virginica']\n",
      "[0.    0.01  0.02  0.031 0.041 0.051 0.061 0.071 0.082 0.092 0.102 0.112\n",
      " 0.122 0.133 0.143 0.153 0.163 0.173 0.184 0.194 0.204 0.214 0.224 0.235\n",
      " 0.245 0.255 0.265 0.276 0.286 0.296 0.306 0.316 0.327 0.337 0.347 0.357\n",
      " 0.367 0.378 0.388 0.398 0.408 0.418 0.429 0.439 0.449 0.459 0.469 0.48\n",
      " 0.49  0.5   0.501 0.506 0.511 0.516 0.521 0.526 0.531 0.537 0.542 0.547\n",
      " 0.552 0.557 0.562 0.567 0.572 0.577 0.582 0.587 0.592 0.598 0.603 0.608\n",
      " 0.613 0.618 0.623 0.628 0.633 0.638 0.643 0.648 0.653 0.659 0.664 0.669\n",
      " 0.674 0.679 0.684 0.689 0.694 0.699 0.704 0.709 0.714 0.72  0.725 0.73\n",
      " 0.735 0.74  0.745 0.75  0.751 0.756 0.761 0.766 0.771 0.776 0.781 0.787\n",
      " 0.792 0.797 0.802 0.807 0.812 0.817 0.822 0.827 0.832 0.837 0.842 0.848\n",
      " 0.853 0.858 0.863 0.868 0.873 0.878 0.883 0.888 0.893 0.898 0.903 0.909\n",
      " 0.914 0.919 0.924 0.929 0.934 0.939 0.944 0.949 0.954 0.959 0.964 0.97\n",
      " 0.975 0.98  0.985 0.99  0.995 1.   ]\n",
      "(array([b'Iris-setosa', b'Iris-versicolor', b'Iris-virginica'],\n",
      "      dtype=object), array([77, 37, 36]))\n"
     ]
    },
    {
     "data": {
      "text/plain": [
       "'\\nZusammenfassung: Warum macht man das?\\n\\nMan macht solche probabilistischen Zuordnungen oder Samplings, um:\\n\\n    Datensätze anzureichern (Datenaugmentation).\\n    Realistische Szenarien zu simulieren, die in der Praxis vorkommen könnten.\\n    Trainings- und Testdatensätze zu generieren, die auf bestimmte Probleme abgestimmt sind.\\n    Unausgeglichene Klassen zu balancieren, um bessere Modelle zu entwickeln.\\n    Die Robustheit von Modellen zu testen, indem sie in verschiedenen Verteilungen geprüft werden.\\n    Stochastik einzuführen, um Overfitting zu vermeiden und Variabilität zu erhöhen.\\n\\nIn der Praxis ist Ansatz 2 (Probabilistisches Sampling) oft bevorzugt, da er präziser und flexibler ist, insbesondere wenn man die Verteilung der Daten genauer steuern möchte.\\n--------------------------------------------------------\\nIn der Aufgabe wird np.linspace verwendet, weil es:\\n\\n    Grenzfälle klar behandelt (z. B. Werte wie 0.5 oder 0.75 landen immer eindeutig in einem Intervall).\\n    Flexibilität bietet, um auch komplexere oder unregelmäßige Verteilungen darzustellen.\\n    Robuster für größere Datenmengen und feinere Anpassungen der Wahrscheinlichkeitsverteilung ist.\\n\\nFür einfache Verteilungen und kleinere Datensätze könnten feste Grenzen wie [0.0, 0.5], [0.5, 0.75], [0.75, 1.0] ausreichen. Der granularere Ansatz wird aber bevorzugt, wenn mehr Kontrolle und Präzision gefragt ist.\\n'"
      ]
     },
     "execution_count": 42,
     "metadata": {},
     "output_type": "execute_result"
    }
   ],
   "source": [
    "url = 'https://archive.ics.uci.edu/ml/machine-learning-databases/iris/iris.data'\n",
    "iris = np.genfromtxt(url, delimiter=',', dtype='object')\n",
    "\n",
    "# Solution\n",
    "# Get the species column\n",
    "species = iris[:, 4]\n",
    "print(species)\n",
    "# Approach 1: Generate Probablistically\n",
    "np.random.seed(100)\n",
    "a = np.array(['Iris-setosa', 'Iris-versicolor', 'Iris-virginica'])\n",
    "species_out = np.random.choice(a, 150, p=[0.5, 0.25, 0.25])\n",
    "\n",
    "# Approach 2: Probablistic Sampling (preferred)\n",
    "np.random.seed(100)\n",
    "probs = np.r_[np.linspace(0, 0.500, num=50), np.linspace(0.501, .750, num=50), np.linspace(.751, 1.0, num=50)]\n",
    "print(probs)\n",
    "index = np.searchsorted(probs, np.random.random(150))\n",
    "species_out = species[index]\n",
    "print(np.unique(species_out, return_counts=True))\n",
    "\n",
    "#> (array([b'Iris-setosa', b'Iris-versicolor', b'Iris-virginica'], dtype=object), array([77, 37, 36]))\n",
    "\n",
    "\"\"\"\n",
    "Zusammenfassung: Warum macht man das?\n",
    "\n",
    "Man macht solche probabilistischen Zuordnungen oder Samplings, um:\n",
    "\n",
    "    Datensätze anzureichern (Datenaugmentation).\n",
    "    Realistische Szenarien zu simulieren, die in der Praxis vorkommen könnten.\n",
    "    Trainings- und Testdatensätze zu generieren, die auf bestimmte Probleme abgestimmt sind.\n",
    "    Unausgeglichene Klassen zu balancieren, um bessere Modelle zu entwickeln.\n",
    "    Die Robustheit von Modellen zu testen, indem sie in verschiedenen Verteilungen geprüft werden.\n",
    "    Stochastik einzuführen, um Overfitting zu vermeiden und Variabilität zu erhöhen.\n",
    "\n",
    "In der Praxis ist Ansatz 2 (Probabilistisches Sampling) oft bevorzugt, da er präziser und flexibler ist, insbesondere wenn man die Verteilung der Daten genauer steuern möchte.\n",
    "--------------------------------------------------------\n",
    "In der Aufgabe wird np.linspace verwendet, weil es:\n",
    "\n",
    "    Grenzfälle klar behandelt (z. B. Werte wie 0.5 oder 0.75 landen immer eindeutig in einem Intervall).\n",
    "    Flexibilität bietet, um auch komplexere oder unregelmäßige Verteilungen darzustellen.\n",
    "    Robuster für größere Datenmengen und feinere Anpassungen der Wahrscheinlichkeitsverteilung ist.\n",
    "\n",
    "Für einfache Verteilungen und kleinere Datensätze könnten feste Grenzen wie [0.0, 0.5], [0.5, 0.75], [0.75, 1.0] ausreichen. Der granularere Ansatz wird aber bevorzugt, wenn mehr Kontrolle und Präzision gefragt ist.\n",
    "\"\"\""
   ]
  },
  {
   "cell_type": "markdown",
   "id": "b6d8542d-5100-4a54-be57-7da0895ea72b",
   "metadata": {},
   "source": [
    "### 43. How to get the second largest value of an array when grouped by another array?"
   ]
  },
  {
   "cell_type": "code",
   "execution_count": 43,
   "id": "9bfadacd-4a13-4c14-bb71-eea2b6c114f9",
   "metadata": {},
   "outputs": [
    {
     "ename": "SyntaxError",
     "evalue": "incomplete input (1994986890.py, line 13)",
     "output_type": "error",
     "traceback": [
      "\u001b[1;36m  Cell \u001b[1;32mIn[43], line 13\u001b[1;36m\u001b[0m\n\u001b[1;33m    \"\"\"\u001b[0m\n\u001b[1;37m    ^\u001b[0m\n\u001b[1;31mSyntaxError\u001b[0m\u001b[1;31m:\u001b[0m incomplete input\n"
     ]
    }
   ],
   "source": [
    "url = 'https://archive.ics.uci.edu/ml/machine-learning-databases/iris/iris.data'\n",
    "iris = np.genfromtxt(url, delimiter=',', dtype='object')\n",
    "\n",
    "# Solution\n",
    "# Get the species and petal length columns\n",
    "petal_len_setosa = iris[iris[:, 4] == b'Iris-setosa', [2]].astype('float')\n",
    "\n",
    "# Get the second last value\n",
    "np.unique(np.sort(petal_len_setosa))[-2]\n",
    "#> 1.7\n",
    "\n",
    "\n",
    "\"\"\"\n",
    "    iris[:, 4]: Extrahiert die Spalte 4 des Datensatzes (die Art, z. B. Iris-setosa).\n",
    "    iris[:, 4] == b'Iris-setosa': Prüft, ob der Wert in der Artenspalte gleich Iris-setosa ist (wichtig: b vor dem String bedeutet \"byte-String\").\n",
    "    iris[... , 2]: Wählt die Kronblattlängen-Spalte (Spalte 2) für alle Zeilen, bei denen die Art Iris-setosa ist.\n",
    "    .astype('float'): Konvertiert die Kronblattlängen von object (stringbasiert) in float, damit numerische Berechnungen möglich sind.\n",
    "------------------------------------------------------------------------------------------------------------------------------------------------\n",
    "    np.sort(petal_len_setosa): Sortiert die Kronblattlängen in aufsteigender Reihenfolge.\n",
    "    np.unique(...): Entfernt doppelte Werte, sodass nur die einzigartigen Kronblattlängen übrigbleiben.\n",
    "    [-2]: Wählt den zweitletzten Wert aus dem Array.\n",
    "\n",
    "Ergebnis: Der zweitletzte eindeutige Wert der sortierten Kronblattlängen wird berechnet.\n",
    "\n",
    "Ergebnis: petal_len_setosa ist ein Array, das nur die Kronblattlängen (petal length) von Iris-setosa enthält."
   ]
  },
  {
   "cell_type": "markdown",
   "id": "39fa1888-3931-47cb-a2d5-3629cd505236",
   "metadata": {},
   "source": [
    "### 44. How to sort a 2D array by a column"
   ]
  },
  {
   "cell_type": "code",
   "execution_count": null,
   "id": "941abb5c-b179-4ff1-bf52-4a3acfdb2a5a",
   "metadata": {},
   "outputs": [],
   "source": [
    "url = 'https://archive.ics.uci.edu/ml/machine-learning-databases/iris/iris.data'\n",
    "iris = np.genfromtxt(url, delimiter=',', dtype='object')\n",
    "names = ('sepallength', 'sepalwidth', 'petallength', 'petalwidth', 'species')\n",
    "\n",
    "\n",
    "\n",
    "# Sort by column position 0: SepalLength\n",
    "print(iris[iris[:,0].argsort()][:20])\n",
    "#> [[b'4.3' b'3.0' b'1.1' b'0.1' b'Iris-setosa']\n",
    "#>  [b'4.4' b'3.2' b'1.3' b'0.2' b'Iris-setosa']\n",
    "#>  [b'4.4' b'3.0' b'1.3' b'0.2' b'Iris-setosa']\n",
    "#>  [b'4.4' b'2.9' b'1.4' b'0.2' b'Iris-setosa']\n",
    "#>  [b'4.5' b'2.3' b'1.3' b'0.3' b'Iris-setosa']\n",
    "#>  [b'4.6' b'3.6' b'1.0' b'0.2' b'Iris-setosa']\n",
    "#>  [b'4.6' b'3.1' b'1.5' b'0.2' b'Iris-setosa']\n",
    "#>  [b'4.6' b'3.4' b'1.4' b'0.3' b'Iris-setosa']\n",
    "#>  [b'4.6' b'3.2' b'1.4' b'0.2' b'Iris-setosa']\n",
    "#>  [b'4.7' b'3.2' b'1.3' b'0.2' b'Iris-setosa']\n",
    "#>  [b'4.7' b'3.2' b'1.6' b'0.2' b'Iris-setosa']\n",
    "#>  [b'4.8' b'3.0' b'1.4' b'0.1' b'Iris-setosa']\n",
    "#>  [b'4.8' b'3.0' b'1.4' b'0.3' b'Iris-setosa']\n",
    "#>  [b'4.8' b'3.4' b'1.9' b'0.2' b'Iris-setosa']\n",
    "#>  [b'4.8' b'3.4' b'1.6' b'0.2' b'Iris-setosa']\n",
    "#>  [b'4.8' b'3.1' b'1.6' b'0.2' b'Iris-setosa']\n",
    "#>  [b'4.9' b'2.4' b'3.3' b'1.0' b'Iris-versicolor']\n",
    "#>  [b'4.9' b'2.5' b'4.5' b'1.7' b'Iris-virginica']\n",
    "#>  [b'4.9' b'3.1' b'1.5' b'0.1' b'Iris-setosa']\n",
    "#>  [b'4.9' b'3.1' b'1.5' b'0.1' b'Iris-setosa']]\n",
    "\n",
    "\"\"\"\n",
    "    iris[:, 0]: Diese Operation extrahiert die erste Spalte des Arrays (die Kelchblattlänge, sepallength).\n",
    "    .argsort(): Diese Methode liefert die Indizes, die die Werte in der Spalte sepallength in aufsteigender Reihenfolge sortieren würden.\n",
    "    iris[...] mit argsort: Durch Anwendung der sortierten Indizes wird das gesamte Array so umgeordnet, dass die Zeilen nach den Werten in sepallength sortiert sind.\n",
    "\n",
    "Beispiel: Angenommen, die Spalte sepallength enthält:\n",
    "\n",
    "\"\"\""
   ]
  },
  {
   "cell_type": "markdown",
   "id": "c027b6cb-c362-40bd-922d-82a5191c986b",
   "metadata": {},
   "source": [
    "### 45. How to find the most frequent value in a numpy array?"
   ]
  },
  {
   "cell_type": "code",
   "execution_count": null,
   "id": "2b154b6b-4ca5-4a93-9731-f26e8cd85f78",
   "metadata": {},
   "outputs": [],
   "source": [
    "url = 'https://archive.ics.uci.edu/ml/machine-learning-databases/iris/iris.data'\n",
    "iris = np.genfromtxt(url, delimiter=',', dtype='object')\n",
    "\n",
    "# Solution:\n",
    "vals, counts = np.unique(iris[:, 2], return_counts=True)\n",
    "\n",
    "print(vals[np.argmax(counts)])\n",
    "#> b'1.5'"
   ]
  },
  {
   "cell_type": "markdown",
   "id": "4051dcc8-213a-42d6-8b6b-b6ee6856b67d",
   "metadata": {},
   "source": [
    "### 46. How to find the position of the first occurrence of a value greater than a given value?"
   ]
  },
  {
   "cell_type": "code",
   "execution_count": null,
   "id": "e39e5061-abe2-435c-acbf-e47aab846796",
   "metadata": {},
   "outputs": [],
   "source": [
    "url = 'https://archive.ics.uci.edu/ml/machine-learning-databases/iris/iris.data'\n",
    "iris = np.genfromtxt(url, delimiter=',', dtype='object')\n",
    "\n",
    "# Solution: (edit: changed argmax to argwhere. Thanks Rong!)\n",
    "np.argwhere(iris[:, 3].astype(float) > 1.0)[0]\n",
    "#> 50"
   ]
  },
  {
   "cell_type": "markdown",
   "id": "fb864139-6ac8-4f1c-9f3a-2624e2b37f4a",
   "metadata": {},
   "source": [
    "### 47. How to replace all values greater than a given value to a given cutoff?\n"
   ]
  },
  {
   "cell_type": "code",
   "execution_count": null,
   "id": "0de7be93-7944-4167-9f58-a7ec707bfff4",
   "metadata": {},
   "outputs": [],
   "source": [
    "np.set_printoptions(precision=2)\n",
    "np.random.seed(100)\n",
    "a = np.random.uniform(1,50, 20)\n",
    "\n",
    "# Solution 1: Using np.clip\n",
    "np.clip(a, a_min=10, a_max=30)\n",
    "\n",
    "# Solution 2: Using np.where\n",
    "print(np.where(a < 10, 10, np.where(a > 30, 30, a)))\n",
    "#> [ 27.63  14.64  21.8   30.    10.    10.    30.    30.    10.    29.18  30.\n",
    "#>   11.25  10.08  10.    11.77  30.    30.    10.    30.    14.43]"
   ]
  },
  {
   "cell_type": "markdown",
   "id": "1b09c151-f956-4482-ac58-bbbca165fbb0",
   "metadata": {},
   "source": [
    "### 48. How to get the positions of top n values from a numpy array?"
   ]
  },
  {
   "cell_type": "code",
   "execution_count": null,
   "id": "ecd3cbda-87b7-4082-858c-af31179e8e68",
   "metadata": {},
   "outputs": [],
   "source": [
    "np.random.seed(100)\n",
    "a = np.random.uniform(1,50, 20)\n",
    "\n",
    "# Solution:\n",
    "print(a.argsort())\n",
    "#> [18 7 3 10 15]\n",
    "\n",
    "# Solution 2:\n",
    "np.argpartition(-a, 5)[:5]\n",
    "#> [15 10  3  7 18]\n",
    "\n",
    "# Below methods will get you the values.\n",
    "# Method 1:\n",
    "a[a.argsort()][-5:]\n",
    "\n",
    "# Method 2:\n",
    "np.sort(a)[-5:]\n",
    "\n",
    "# Method 3:\n",
    "np.partition(a, kth=-5)[-5:]\n",
    "\n",
    "# Method 4:\n",
    "a[np.argpartition(-a, 5)][:5]"
   ]
  },
  {
   "cell_type": "markdown",
   "id": "aa1977e6-1196-4590-acb1-3066591dbe40",
   "metadata": {},
   "source": [
    "### 49. How to compute the row wise counts of all possible values in an array?"
   ]
  },
  {
   "cell_type": "code",
   "execution_count": null,
   "id": "6666687e-7b27-4526-9600-d455b8070b3a",
   "metadata": {},
   "outputs": [],
   "source": [
    "np.random.seed(100)\n",
    "arr = np.random.randint(1,11,size=(6, 10))\n",
    "arr\n",
    "#> array([[ 9,  9,  4,  8,  8,  1,  5,  3,  6,  3],\n",
    "#>        [ 3,  3,  2,  1,  9,  5,  1, 10,  7,  3],\n",
    "#>        [ 5,  2,  6,  4,  5,  5,  4,  8,  2,  2],\n",
    "#>        [ 8,  8,  1,  3, 10, 10,  4,  3,  6,  9],\n",
    "#>        [ 2,  1,  8,  7,  3,  1,  9,  3,  6,  2],\n",
    "#>        [ 9,  2,  6,  5,  3,  9,  4,  6,  1, 10]])\n",
    "\n",
    "def counts_of_all_values_rowwise(arr2d):\n",
    "    # Unique values and its counts row wise\n",
    "    num_counts_array = [np.unique(row, return_counts=True) for row in arr2d]\n",
    "\n",
    "    # Counts of all values row wise\n",
    "    return([[int(b[a==i]) if i in a else 0 for i in np.unique(arr2d)] for a, b in num_counts_array])\n",
    "\n",
    "# Print\n",
    "print(np.arange(1,11))\n",
    "counts_of_all_values_rowwise(arr)\n",
    "#> [ 1  2  3  4  5  6  7  8  9 10]\n",
    "\n",
    "#> [[1, 0, 2, 1, 1, 1, 0, 2, 2, 0],\n",
    "#>  [2, 1, 3, 0, 1, 0, 1, 0, 1, 1],\n",
    "#>  [0, 3, 0, 2, 3, 1, 0, 1, 0, 0],\n",
    "#>  [1, 0, 2, 1, 0, 1, 0, 2, 1, 2],\n",
    "#>  [2, 2, 2, 0, 0, 1, 1, 1, 1, 0],\n",
    "#>  [1, 1, 1, 1, 1, 2, 0, 0, 2, 1]]"
   ]
  },
  {
   "cell_type": "markdown",
   "id": "51d189cc-b226-47e9-8ac3-8016a0253df6",
   "metadata": {},
   "source": [
    "### 50. How to convert an array of arrays into a flat 1d array?"
   ]
  },
  {
   "cell_type": "code",
   "execution_count": null,
   "id": "0d9eb003-4ecf-4a83-900a-a0cca0d3ffeb",
   "metadata": {},
   "outputs": [],
   "source": [
    "arr1 = np.arange(3)\n",
    "arr2 = np.arange(3,7)\n",
    "arr3 = np.arange(7,10)\n",
    "\n",
    "array_of_arrays = np.array([arr1, arr2, arr3])\n",
    "print('array_of_arrays: ', array_of_arrays)\n",
    "\n",
    "# Solution 1\n",
    "arr_2d = np.array([a for arr in array_of_arrays for a in arr])\n",
    "\n",
    "# Solution 2:\n",
    "arr_2d = np.concatenate(array_of_arrays)\n",
    "print(arr_2d)\n",
    "#> array_of_arrays:  [array([0, 1, 2]) array([3, 4, 5, 6]) array([7, 8, 9])]\n",
    "#> [0 1 2 3 4 5 6 7 8 9]"
   ]
  },
  {
   "cell_type": "markdown",
   "id": "59f6fe5f-8883-4677-9e3e-2d8c6a72caba",
   "metadata": {},
   "source": [
    "### 51. How to generate one-hot encodings for an array in numpy?"
   ]
  },
  {
   "cell_type": "code",
   "execution_count": null,
   "id": "784b87b9-378f-4ea4-981e-7dc3bc40762b",
   "metadata": {},
   "outputs": [],
   "source": [
    "np.random.seed(101) \n",
    "arr = np.random.randint(1,4, size=6)\n",
    "arr\n",
    "#> array([2, 3, 2, 2, 2, 1])\n",
    "uniqs = np.unique(arr)\n",
    "out = np.zeros((arr.shape[0], uniqs.shape[0]))\n",
    "print(uniqs.shape[0])\n",
    "print(out)\n",
    "# Solution:\n",
    "def one_hot_encodings(arr):\n",
    "    uniqs = np.unique(arr)\n",
    "    out = np.zeros((arr.shape[0], uniqs.shape[0]))\n",
    "    for i, k in enumerate(arr):\n",
    "        out[i, k-1] = 1\n",
    "    return out\n",
    "\n",
    "one_hot_encodings(arr)\n",
    "#> array([[ 0.,  1.,  0.],\n",
    "#>        [ 0.,  0.,  1.],\n",
    "#>        [ 0.,  1.,  0.],\n",
    "#>        [ 0.,  1.,  0.],\n",
    "#>        [ 0.,  1.,  0.],\n",
    "#>        [ 1.,  0.,  0.]])\n",
    "\n",
    "# Method 2:\n",
    "(arr[:, None] == np.unique(arr)).view(np.int8)"
   ]
  },
  {
   "cell_type": "markdown",
   "id": "a20eae7c-c54e-4ad5-a357-0d409e1d9d88",
   "metadata": {},
   "source": [
    "### 52. How to create row numbers grouped by a categorical variable?"
   ]
  },
  {
   "cell_type": "code",
   "execution_count": null,
   "id": "e2ad0827-e6ee-4c3b-90ac-9378e88d5c5e",
   "metadata": {},
   "outputs": [],
   "source": [
    "# Input:\n",
    "url = 'https://archive.ics.uci.edu/ml/machine-learning-databases/iris/iris.data'\n",
    "species = np.genfromtxt(url, delimiter=',', dtype='str', usecols=4)\n",
    "np.random.seed(100)\n",
    "species_small = np.sort(np.random.choice(species, size=20))\n",
    "species_small\n",
    "#> array(['Iris-setosa', 'Iris-setosa', 'Iris-setosa', 'Iris-setosa',\n",
    "#>        'Iris-setosa', 'Iris-versicolor', 'Iris-versicolor',\n",
    "#>        'Iris-versicolor', 'Iris-versicolor', 'Iris-versicolor',\n",
    "#>        'Iris-versicolor', 'Iris-versicolor', 'Iris-versicolor',\n",
    "#>        'Iris-versicolor', 'Iris-virginica', 'Iris-virginica',\n",
    "#>        'Iris-virginica', 'Iris-virginica', 'Iris-virginica',\n",
    "#>        'Iris-virginica'],\n",
    "#>       dtype='<U15')\n",
    "\n",
    "print([i for val in np.unique(species_small) for i, grp in enumerate(species_small[species_small==val])])"
   ]
  },
  {
   "cell_type": "markdown",
   "id": "dae501f1-c460-4b6c-9440-468e18d29e38",
   "metadata": {},
   "source": [
    "### 53. How to create groud ids based on a given categorical variable?"
   ]
  },
  {
   "cell_type": "code",
   "execution_count": null,
   "id": "0aa125c8-7535-492e-89db-da0991aa97c1",
   "metadata": {},
   "outputs": [],
   "source": [
    "url = 'https://archive.ics.uci.edu/ml/machine-learning-databases/iris/iris.data'\n",
    "species = np.genfromtxt(url, delimiter=',', dtype='str', usecols=4)\n",
    "np.random.seed(100)\n",
    "species_small = np.sort(np.random.choice(species, size=20))\n",
    "species_small\n",
    "#> array(['Iris-setosa', 'Iris-setosa', 'Iris-setosa', 'Iris-setosa',\n",
    "#>        'Iris-setosa', 'Iris-versicolor', 'Iris-versicolor',\n",
    "#>        'Iris-versicolor', 'Iris-versicolor', 'Iris-versicolor',\n",
    "#>        'Iris-versicolor', 'Iris-versicolor', 'Iris-versicolor',\n",
    "#>        'Iris-versicolor', 'Iris-virginica', 'Iris-virginica',\n",
    "#>        'Iris-virginica', 'Iris-virginica', 'Iris-virginica',\n",
    "#>        'Iris-virginica'],\n",
    "#>       dtype='<U15')\n",
    "\n",
    "# Solution:\n",
    "output = [np.argwhere(np.unique(species_small) == s).tolist()[0][0] for val in np.unique(species_small) for s in species_small[species_small==val]]\n",
    "print(output)\n",
    "# Solution: For Loop version\n",
    "output = []\n",
    "uniqs = np.unique(species_small)\n",
    "\n",
    "for val in uniqs:  # uniq values in group\n",
    "    for s in species_small[species_small==val]:  # each element in group\n",
    "        groupid = np.argwhere(uniqs == s).tolist()[0][0]  # groupid\n",
    "        output.append(groupid)\n",
    "\n",
    "print(output)\n",
    "#> [0, 0, 0, 0, 0, 1, 1, 1, 1, 1, 1, 1, 1, 1, 2, 2, 2, 2, 2, 2]"
   ]
  },
  {
   "cell_type": "markdown",
   "id": "40522dbb-d362-4a96-8774-33233955a139",
   "metadata": {},
   "source": [
    "### 54. How to rank items in an array using numpy?"
   ]
  },
  {
   "cell_type": "code",
   "execution_count": null,
   "id": "2899519a-5921-454a-ba25-a1dd53c815bb",
   "metadata": {},
   "outputs": [],
   "source": [
    "np.random.seed(10)\n",
    "a = np.random.randint(10, size=5)\n",
    "\n",
    "print(a)\n",
    "print(a.argsort())\n",
    "print(a.argsort().argsort())\n",
    "\n",
    "\"\"\"\n",
    "Ein Rank zeigt die Platzierung eines Elements relativ zu anderen Elementen in einem Array an.\n",
    "In NumPy können Ränge mit argsort().argsort() berechnet werden.\n",
    "Sie sind hilfreich, um die Reihenfolge oder relative Position von Elementen zu bestimmen, ohne das Array direkt zu sortieren.\n",
    "\n",
    "\"\"\""
   ]
  },
  {
   "cell_type": "markdown",
   "id": "668115c0-0f44-41f0-8b17-3eb8454bef9f",
   "metadata": {},
   "source": [
    "### 55. How to rank items in a multidimensional array using numpy?"
   ]
  },
  {
   "cell_type": "code",
   "execution_count": null,
   "id": "d3bb01a7-43fb-4864-a3d8-020e0c6f6e75",
   "metadata": {},
   "outputs": [],
   "source": [
    "np.random.seed(10)\n",
    "a = np.random.randint(20, size=[2,5])\n",
    "print(a)\n",
    "\n",
    "print(a.ravel().argsort().argsort().reshape(a.shape))\n",
    "#> [[ 9  4 15  0 17]\n",
    "#>  [16 17  8  9  0]]\n",
    "#> [[4 2 6 0 8]\n",
    "#>  [7 9 3 5 1]]"
   ]
  },
  {
   "cell_type": "markdown",
   "id": "b282570f-d1b7-4f62-8c53-f7e9154540bb",
   "metadata": {},
   "source": [
    "### 56. How to find the maximum value in each row of a numpy array 2d?"
   ]
  },
  {
   "cell_type": "code",
   "execution_count": null,
   "id": "b881b0ff-d464-46f4-9204-94a167fc7554",
   "metadata": {},
   "outputs": [],
   "source": [
    "np.random.seed(100)\n",
    "a = np.random.randint(1,10, [5,3])\n",
    "a\n",
    "\n",
    "# Solution 1\n",
    "np.amax(a, axis=1)\n",
    "\n",
    "print(a)\n",
    "# Solution 2\n",
    "np.apply_along_axis(np.max, arr=a, axis=1)\n",
    "#> array([9, 8, 6, 3, 9])"
   ]
  },
  {
   "cell_type": "markdown",
   "id": "7e7be91d-8cba-4a2a-a96d-fac8577d1e86",
   "metadata": {},
   "source": [
    "### 57. How to compute the min-by-max for each row for a numpy array 2d?"
   ]
  },
  {
   "cell_type": "code",
   "execution_count": null,
   "id": "22d54f0a-44ca-4f79-b70a-f0aadeb43774",
   "metadata": {},
   "outputs": [],
   "source": [
    "np.random.seed(100)\n",
    "a = np.random.randint(1,10, [5,3])\n",
    "a\n",
    "\n",
    "# Solution\n",
    "np.apply_along_axis(lambda x: np.min(x)/np.max(x), arr=a, axis=1)\n",
    "#> array([ 0.44444444,  0.125     ,  0.5       ,  1.        ,  0.11111111])"
   ]
  },
  {
   "cell_type": "markdown",
   "id": "fbe20e31-6d96-4120-90ef-1f07f984ab20",
   "metadata": {},
   "source": [
    "### 58. How to find the duplicate records in a numpy array?"
   ]
  },
  {
   "cell_type": "code",
   "execution_count": null,
   "id": "d9f02209-fea9-43c4-b557-36ae0dacfbda",
   "metadata": {},
   "outputs": [],
   "source": [
    "np.random.seed(100)\n",
    "a = np.random.randint(0, 5, 10)\n",
    "\n",
    "## Solution\n",
    "# There is no direct function to do this as of 1.13.3\n",
    "\n",
    "# Create an all True array\n",
    "out = np.full(a.shape[0], True)\n",
    "\n",
    "# Find the index positions of unique elements\n",
    "unique_positions = np.unique(a, return_index=True)[1]\n",
    "print (unique_positions)\n",
    "\n",
    "# Mark those positions as False\n",
    "out[unique_positions] = False\n",
    "\n",
    "print(a)\n",
    "print(out)\n",
    "#> [False  True False  True False False  True  True  True  True]\n",
    "\n",
    "\"\"\"\n",
    "Index 0 (False): Wert 0 ist einzigartig.\n",
    "Index 1 (True): Wert 0 ist ein Duplikat.\n",
    "Index 2 (False): Wert 3 ist einzigartig.\n",
    "Index 3 (True): Wert 0 ist ein Duplikat.\n",
    "Index 4 (False): Wert 2 ist einzigartig.\n",
    "Index 5 (False): Wert 4 ist einzigartig.\n",
    "Index 6-9 (True): Werte 2 und 4 sind Duplikate.\n",
    "\"\"\""
   ]
  },
  {
   "cell_type": "markdown",
   "id": "66b92ecb-04bc-4dcc-99b4-4f99d6f65560",
   "metadata": {},
   "source": [
    "### 59. How to find the grouped mean in numpy?"
   ]
  },
  {
   "cell_type": "code",
   "execution_count": null,
   "id": "54b0da42-deba-4079-b19a-1d2bccdadb2c",
   "metadata": {},
   "outputs": [],
   "source": [
    "\n",
    "\n",
    "# Input\n",
    "url = 'https://archive.ics.uci.edu/ml/machine-learning-databases/iris/iris.data'\n",
    "iris = np.genfromtxt(url, delimiter=',', dtype='object')\n",
    "names = ('sepallength', 'sepalwidth', 'petallength', 'petalwidth', 'species')\n",
    "\n",
    "\n",
    "# Solution\n",
    "# No direct way to implement this. Just a version of a workaround.\n",
    "numeric_column = iris[:, 1].astype('float')  # sepalwidth\n",
    "grouping_column = iris[:, 4]  # species\n",
    "\n",
    "# List comprehension version\n",
    "[[group_val, numeric_column[grouping_column==group_val].mean()] for group_val in np.unique(grouping_column)]\n",
    "\n",
    "# For Loop version\n",
    "output = []\n",
    "for group_val in np.unique(grouping_column):\n",
    "    output.append([group_val, numeric_column[grouping_column==group_val].mean()])\n",
    "\n",
    "output\n",
    "#> [[b'Iris-setosa', 3.418],\n",
    "#>  [b'Iris-versicolor', 2.770],\n",
    "#>  [b'Iris-virginica', 2.974]]\n",
    "\n"
   ]
  },
  {
   "cell_type": "markdown",
   "id": "ae8a213f-66c6-42ec-8fbe-9d43cc102e15",
   "metadata": {},
   "source": [
    "### Beipsiel zu 59"
   ]
  },
  {
   "cell_type": "code",
   "execution_count": null,
   "id": "ea1fee50-e93b-4904-8604-9e079bc3e8d4",
   "metadata": {},
   "outputs": [],
   "source": [
    "import numpy as np\n",
    "\n",
    "# Beispiel-Daten\n",
    "numeric_column = np.array([3.5, 2.7, 3.1, 4.0, 2.8, 3.3, 2.9])\n",
    "grouping_column = np.array(['A', 'B', 'A', 'C', 'B', 'A', 'C'])\n",
    "\n",
    "group_val = 'A'\n",
    "mask = grouping_column == group_val\n",
    "print(mask)\n",
    "numeric_column[[ True, False,  True, False, False,  True, False]]\n",
    "\n"
   ]
  },
  {
   "cell_type": "markdown",
   "id": "ae405a8c-2a55-472a-b9b7-eac41b9f4005",
   "metadata": {},
   "source": [
    "### 60. How to convert a PIL image to numpy array?"
   ]
  },
  {
   "cell_type": "code",
   "execution_count": null,
   "id": "8e9359a2-8bc2-4d33-91cd-27b55725a3a6",
   "metadata": {},
   "outputs": [],
   "source": [
    "!pip install Pillow\n"
   ]
  },
  {
   "cell_type": "code",
   "execution_count": 44,
   "id": "264ac8a8-53c4-40ab-a7ec-d129bd8ef6b0",
   "metadata": {},
   "outputs": [
    {
     "name": "stdout",
     "output_type": "stream",
     "text": [
      "(1150, 1150, 3)\n"
     ]
    }
   ],
   "source": [
    "from io import BytesIO\n",
    "from PIL import Image\n",
    "import PIL, requests\n",
    "\n",
    "# Import image from URL\n",
    "URL = 'https://upload.wikimedia.org/wikipedia/commons/8/8b/Denali_Mt_McKinley.jpg'\n",
    "response = requests.get(URL)\n",
    "\n",
    "# Read it as Image\n",
    "I = Image.open(BytesIO(response.content))\n",
    "\n",
    "\n",
    "# Optionally resize\n",
    "I = I.resize([1150,1150])\n",
    "\n",
    "# Convert to numpy array\n",
    "arr = np.asarray(I)\n",
    "\n",
    "# Optionaly Convert it back to an image and show\n",
    "im = PIL.Image.fromarray(np.uint8(arr))\n",
    "Image.Image.show(im)\n",
    "\n",
    "print(arr.shape)"
   ]
  },
  {
   "cell_type": "markdown",
   "id": "13db7ded-bea8-4c4b-8b19-cd63dd880ed5",
   "metadata": {},
   "source": [
    "### 61. How to drop all missing values from a numpy array?"
   ]
  },
  {
   "cell_type": "code",
   "execution_count": 50,
   "id": "6e3bdc91-82f8-4098-9766-2bdf6764ef4e",
   "metadata": {},
   "outputs": [
    {
     "name": "stdout",
     "output_type": "stream",
     "text": [
      "[ 1.  2.  3. nan  5.  6.  7. nan]\n"
     ]
    },
    {
     "data": {
      "text/plain": [
       "array([1., 2., 3., 5., 6., 7.])"
      ]
     },
     "execution_count": 50,
     "metadata": {},
     "output_type": "execute_result"
    }
   ],
   "source": [
    "a = np.array([1,2,3,np.nan,5,6,7,np.nan])\n",
    "print(a)\n",
    "a[~np.isnan(a)]\n",
    "\n",
    "\"\"\"\n",
    "np.isnan(a): Diese Funktion überprüft jedes Element des Arrays darauf, ob es ein NaN-Wert ist, und gibt ein Boolesches Array zurück:\n",
    "\"\"\""
   ]
  },
  {
   "cell_type": "markdown",
   "id": "82937590-db87-4d89-b930-8efe56df9173",
   "metadata": {},
   "source": [
    "### 62. How to compute the euclidean distance between two arrays?"
   ]
  },
  {
   "cell_type": "code",
   "execution_count": 52,
   "id": "8a4fed0c-c495-420a-99d2-ba24efe2b793",
   "metadata": {},
   "outputs": [
    {
     "data": {
      "text/plain": [
       "np.float64(6.708203932499369)"
      ]
     },
     "execution_count": 52,
     "metadata": {},
     "output_type": "execute_result"
    }
   ],
   "source": [
    "a = np.array([1,2,3,4,5])\n",
    "b = np.array([4,5,6,7,8])\n",
    "\n",
    "# Solution\n",
    "dist = np.linalg.norm(a-b)\n",
    "dist\n",
    "#> 6.7082039324993694"
   ]
  },
  {
   "cell_type": "markdown",
   "id": "e93b4667-3d8d-49ef-91f9-f0a6024aba33",
   "metadata": {},
   "source": [
    "### 63. How to find all the local maxima (or peaks) in a 1d array?"
   ]
  },
  {
   "cell_type": "code",
   "execution_count": 54,
   "id": "c4028f6a-0a92-49c5-9e2c-2f330c63e6bc",
   "metadata": {},
   "outputs": [
    {
     "data": {
      "text/plain": [
       "'\\nnp.diff(a) berechnet [x1−x0,x2−x1,…\\u2009][x1\\u200b−x0\\u200b,x2\\u200b−x1\\u200b,…], weil es die Änderungen zwischen benachbarten Werten im Array aufzeigt. Dies ist entscheidend, um:\\n\\n    Steigungen oder Veränderungen zu messen.\\n    Peaks oder Trends zu erkennen.\\n    Eine diskrete Form der Ableitung umzusetzen.\\n\\nDiese Berechnung liefert einen dynamischen Überblick, wie sich die Werte im Array entwickeln!\\n'"
      ]
     },
     "execution_count": 54,
     "metadata": {},
     "output_type": "execute_result"
    }
   ],
   "source": [
    "a = np.array([1, 3, 7, 1, 2, 6, 0, 1])\n",
    "doublediff = np.diff(np.sign(np.diff(a)))\n",
    "peak_locations = np.where(doublediff == -2)[0] + 1\n",
    "peak_locations\n",
    "#> array([2, 5])\n",
    "\n",
    "\"\"\"\n",
    "np.diff(a) berechnet [x1−x0,x2−x1,… ][x1​−x0​,x2​−x1​,…], weil es die Änderungen zwischen benachbarten Werten im Array aufzeigt. Dies ist entscheidend, um:\n",
    "\n",
    "    Steigungen oder Veränderungen zu messen.\n",
    "    Peaks oder Trends zu erkennen.\n",
    "    Eine diskrete Form der Ableitung umzusetzen.\n",
    "\n",
    "Diese Berechnung liefert einen dynamischen Überblick, wie sich die Werte im Array entwickeln!\n",
    "\"\"\""
   ]
  },
  {
   "cell_type": "markdown",
   "id": "d8e55307-c3dd-420e-a607-595afe4d648d",
   "metadata": {},
   "source": [
    "### 64. How to subtract a 1d array from a 2d array, where each item of 1d array subtracts from respective row?"
   ]
  },
  {
   "cell_type": "code",
   "execution_count": 57,
   "id": "c2a864a9-781b-4038-aa96-cf4ffbf79489",
   "metadata": {},
   "outputs": [
    {
     "name": "stdout",
     "output_type": "stream",
     "text": [
      "[[2 2 2]\n",
      " [2 2 2]\n",
      " [2 2 2]]\n"
     ]
    },
    {
     "data": {
      "text/plain": [
       "'\\nDie Methode b_1d[:, None] erweitert die Dimension des 1D-Arrays b_1d, sodass es mit a_2d durch Broadcasting kompatibel wird.\\nBroadcasting sorgt dafür, dass die Elemente von b_1d über die Spalten hinweg wiederholt werden, sodass jedes Element des 1D-Arrays von der jeweiligen Zeile des 2D-Arrays subtrahiert wird.\\nDas Ergebnis ist ein 2D-Array, in dem die Differenzen elementweise berechnet wurden.\\n\\n'"
      ]
     },
     "execution_count": 57,
     "metadata": {},
     "output_type": "execute_result"
    }
   ],
   "source": [
    "a_2d = np.array([[3,3,3],[4,4,4],[5,5,5]])\n",
    "b_1d = np.array([1,2,3])\n",
    "\n",
    "# Solution\n",
    "print(a_2d - b_1d[:,None])\n",
    "#> [[2 2 2]\n",
    "#>  [2 2 2]\n",
    "#>  [2 2 2]]\n",
    "\n",
    "\"\"\"\n",
    "Die Methode b_1d[:, None] erweitert die Dimension des 1D-Arrays b_1d, sodass es mit a_2d durch Broadcasting kompatibel wird.\n",
    "Broadcasting sorgt dafür, dass die Elemente von b_1d über die Spalten hinweg wiederholt werden, sodass jedes Element des 1D-Arrays von der jeweiligen Zeile des 2D-Arrays subtrahiert wird.\n",
    "Das Ergebnis ist ein 2D-Array, in dem die Differenzen elementweise berechnet wurden.\n",
    "\n",
    "\"\"\""
   ]
  },
  {
   "cell_type": "markdown",
   "id": "597bb5ae-97d4-4a48-82fb-a80ef288f011",
   "metadata": {},
   "source": [
    "### 65. How to find the index of n'th repetition of an item in an array"
   ]
  },
  {
   "cell_type": "code",
   "execution_count": 58,
   "id": "7e1751a6-8b4b-4b55-9ed2-14cb583d9914",
   "metadata": {},
   "outputs": [
    {
     "data": {
      "text/plain": [
       "np.int64(8)"
      ]
     },
     "execution_count": 58,
     "metadata": {},
     "output_type": "execute_result"
    }
   ],
   "source": [
    "x = np.array([1, 2, 1, 1, 3, 4, 3, 1, 1, 2, 1, 1, 2])\n",
    "n = 5\n",
    "\n",
    "# Solution 1: List comprehension\n",
    "[i for i, v in enumerate(x) if v == 1][n-1]\n",
    "\n",
    "# Solution 2: Numpy version\n",
    "np.where(x == 1)[0][n-1]\n",
    "#> 8\n",
    "\n"
   ]
  },
  {
   "cell_type": "markdown",
   "id": "46d7f134-4c3d-4a6d-93d9-ad779795a3f8",
   "metadata": {},
   "source": [
    "### 66. How to convert numpy's datetime64 object to datetime's datetime object?"
   ]
  },
  {
   "cell_type": "code",
   "execution_count": 63,
   "id": "133c08ee-e35e-4304-ba41-5c5c8de54a52",
   "metadata": {},
   "outputs": [
    {
     "data": {
      "text/plain": [
       "datetime.datetime(2018, 2, 25, 22, 10, 10)"
      ]
     },
     "execution_count": 63,
     "metadata": {},
     "output_type": "execute_result"
    }
   ],
   "source": [
    "# Input: a numpy datetime64 object\n",
    "dt64 = np.datetime64('2018-02-25 22:10:10')\n",
    "\n",
    "# Solution\n",
    "from datetime import datetime\n",
    "dt64.tolist()\n",
    "\n",
    "# or\n",
    "\n",
    "dt64.astype(datetime)\n",
    "#> datetime.datetime(2018, 2, 25, 22, 10, 10)"
   ]
  },
  {
   "cell_type": "markdown",
   "id": "31f0ce59-2ceb-4462-b531-733d81f10198",
   "metadata": {},
   "source": [
    "### 67. How to compute the moving average of a numpy array?"
   ]
  },
  {
   "cell_type": "code",
   "execution_count": 68,
   "id": "e21dd7f5-70d6-404d-a4b3-11a2a64a87de",
   "metadata": {},
   "outputs": [
    {
     "name": "stdout",
     "output_type": "stream",
     "text": [
      "array:  [8 8 3 7 7 0 4 2 5 2]\n"
     ]
    },
    {
     "data": {
      "text/plain": [
       "'\\nWas ist ein Fenster?\\n\\nEin Fenster ist die Anzahl der Datenpunkte, die gleichzeitig berücksichtigt werden, um den Durchschnitt zu berechnen. Die Größe des Fensters wird durch nn angegeben (Fenstergröße).\\n\\n    Kleine Fenstergröße (nn): Guter Fokus auf kurzfristige Schwankungen, aber weniger Glättung.\\n    Große Fenstergröße (nn): Mehr Glättung, aber möglicherweise weniger Details.\\n'"
      ]
     },
     "execution_count": 68,
     "metadata": {},
     "output_type": "execute_result"
    }
   ],
   "source": [
    "# Solution\n",
    "# Source: https://stackoverflow.com/questions/14313510/how-to-calculate-moving-average-using-numpy\n",
    "def moving_average(a, n=3) :\n",
    "    ret = np.cumsum(a, dtype=float)\n",
    "    ret[n:] = ret[n:] - ret[:-n]\n",
    "    return ret[n - 1:] / n\n",
    "\n",
    "np.random.seed(100)\n",
    "Z = np.random.randint(10, size=10)\n",
    "print('array: ', Z)\n",
    "# Method 1\n",
    "moving_average(Z, n=3).round(2)\n",
    "\n",
    "# Method 2:  # Thanks AlanLRH!\n",
    "# np.ones(3)/3 gives equal weights. Use np.ones(4)/4 for window size 4.\n",
    "np.convolve(Z, np.ones(3)/3, mode='valid') \n",
    "\n",
    "\n",
    "#> array:  [8 8 3 7 7 0 4 2 5 2]\n",
    "#> moving average:  [ 6.33  6.    5.67  4.67  3.67  2.    3.67  3.  ]\n",
    "\n",
    "\"\"\"\n",
    "Was ist ein Fenster?\n",
    "\n",
    "Ein Fenster ist die Anzahl der Datenpunkte, die gleichzeitig berücksichtigt werden, um den Durchschnitt zu berechnen. Die Größe des Fensters wird durch nn angegeben (Fenstergröße).\n",
    "\n",
    "    Kleine Fenstergröße (nn): Guter Fokus auf kurzfristige Schwankungen, aber weniger Glättung.\n",
    "    Große Fenstergröße (nn): Mehr Glättung, aber möglicherweise weniger Details.\n",
    "\"\"\""
   ]
  },
  {
   "cell_type": "markdown",
   "id": "6139b26c-415c-4824-a73f-f56fde95e50d",
   "metadata": {},
   "source": [
    "### 68. How to create a numpy array sequence given only the starting point, length and the step?"
   ]
  },
  {
   "cell_type": "code",
   "execution_count": 71,
   "id": "31dac9b4-85c5-4f29-af82-d6c23726cab3",
   "metadata": {},
   "outputs": [
    {
     "data": {
      "text/plain": [
       "array([ 5,  8, 11, 14, 17, 20, 23, 26, 29, 32])"
      ]
     },
     "execution_count": 71,
     "metadata": {},
     "output_type": "execute_result"
    }
   ],
   "source": [
    "length = 10\n",
    "start = 5\n",
    "step = 3\n",
    "\n",
    "def seq(start, length, step):\n",
    "    end = start + (step*length)\n",
    "    return np.arange(start, end, step)\n",
    "\n",
    "seq(start, length, step)\n",
    "#> array([ 5,  8, 11, 14, 17, 20, 23, 26, 29, 32])\n",
    "\n"
   ]
  },
  {
   "cell_type": "markdown",
   "id": "69e7b877-85ae-4455-b41f-2117f1d1edca",
   "metadata": {},
   "source": [
    "### 69. How to fill in missing dates in an irregular series of numpy dates?"
   ]
  },
  {
   "cell_type": "code",
   "execution_count": 78,
   "id": "9b3f1630-7292-495a-8723-578d1170ef3b",
   "metadata": {},
   "outputs": [
    {
     "name": "stdout",
     "output_type": "stream",
     "text": [
      "['2018-02-01' '2018-02-03' '2018-02-05' '2018-02-07' '2018-02-09'\n",
      " '2018-02-11' '2018-02-13' '2018-02-15' '2018-02-17' '2018-02-19'\n",
      " '2018-02-21' '2018-02-23']\n"
     ]
    },
    {
     "data": {
      "text/plain": [
       "array(['2018-02-01', '2018-02-02', '2018-02-03', '2018-02-04',\n",
       "       '2018-02-05', '2018-02-06', '2018-02-07', '2018-02-08',\n",
       "       '2018-02-09', '2018-02-10', '2018-02-11', '2018-02-12',\n",
       "       '2018-02-13', '2018-02-14', '2018-02-15', '2018-02-16',\n",
       "       '2018-02-17', '2018-02-18', '2018-02-19', '2018-02-20',\n",
       "       '2018-02-21', '2018-02-22', '2018-02-23'], dtype='datetime64[D]')"
      ]
     },
     "execution_count": 78,
     "metadata": {},
     "output_type": "execute_result"
    }
   ],
   "source": [
    "\n",
    "\n",
    "# Input\n",
    "dates = np.arange(np.datetime64('2018-02-01'), np.datetime64('2018-02-25'), 2)\n",
    "print(dates)\n",
    "\n",
    "# Solution ---------------\n",
    "filled_in = np.array([np.arange(date, (date+d)) for date, d in zip(dates, np.diff(dates))]).reshape(-1)\n",
    "\n",
    "# add the last day\n",
    "output = np.hstack([filled_in, dates[-1]])\n",
    "output\n",
    "\n",
    "# For loop version -------\n",
    "out = []\n",
    "for date, d in zip(dates, np.diff(dates)):\n",
    "    out.append(np.arange(date, (date+d)))\n",
    "\n",
    "filled_in = np.array(out).reshape(-1)\n",
    "\n",
    "# add the last day\n",
    "output = np.hstack([filled_in, dates[-1]])\n",
    "output\n",
    "#> ['2018-02-01' '2018-02-03' '2018-02-05' '2018-02-07' '2018-02-09'\n",
    "#>  '2018-02-11' '2018-02-13' '2018-02-15' '2018-02-17' '2018-02-19'\n",
    "#>  '2018-02-21' '2018-02-23']\n",
    "\n",
    "#> array(['2018-02-01', '2018-02-02', '2018-02-03', '2018-02-04',\n",
    "#>        '2018-02-05', '2018-02-06', '2018-02-07', '2018-02-08',\n",
    "#>        '2018-02-09', '2018-02-10', '2018-02-11', '2018-02-12',\n",
    "#>        '2018-02-13', '2018-02-14', '2018-02-15', '2018-02-16',\n",
    "#>        '2018-02-17', '2018-02-18', '2018-02-19', '2018-02-20',\n",
    "#>        '2018-02-21', '2018-02-22', '2018-02-23'], dtype='datetime64[D]')\n",
    "\n"
   ]
  },
  {
   "cell_type": "markdown",
   "id": "6947c7ad-8073-4300-b1a9-be73aa9417fc",
   "metadata": {},
   "source": [
    "### 70. How to create strides from a given 1D array?"
   ]
  },
  {
   "cell_type": "code",
   "execution_count": 81,
   "id": "5864068b-0b69-4d66-be58-5b5ecee09588",
   "metadata": {},
   "outputs": [
    {
     "name": "stdout",
     "output_type": "stream",
     "text": [
      "[[ 0  1  2  3]\n",
      " [ 2  3  4  5]\n",
      " [ 4  5  6  7]\n",
      " [ 6  7  8  9]\n",
      " [ 8  9 10 11]\n",
      " [10 11 12 13]]\n"
     ]
    },
    {
     "data": {
      "text/plain": [
       "'\\n    a.size: Anzahl der Elemente im Array.\\n    a.size - window_len: Der verfügbare Bereich, über den das Fenster geschoben werden kann.\\n    // stride_len: Ganzzahldivision, die bestimmt, wie oft das Fenster verschoben werden kann.\\n    + 1: Einschließlich des ersten Fensters.\\n\\nBeispiel:\\n\\n    Für a.size=15a.size=15, stride_len=2stride_len=2, window_len=4window_len=4:\\n    n_strides=((15−4)//2)+1=6\\n    n_strides=((15−4)//2)+1=6\\n\\n    \\nnp.arange(0, n_strides * stride_len, stride_len):\\n\\n    Erstellt eine Liste von Startpunkten für jedes Fenster, basierend auf der Schrittweite.\\n    Beispiel: np.arange(0, 6*2, 2)=[0,2,4,6,8,10]np.arange(0, 6*2, 2)=[0,2,4,6,8,10].\\n\\na[s:s + window_len]:\\n\\n    Schneidet für jeden Startpunkt (ss) ein Fenster der Länge window_lenwindow_len aus dem Array.\\n    Beispiel: Für a=[0,1,2,...,14]a=[0,1,2,...,14]:\\n        s=0s=0: [0,1,2,3][0,1,2,3],\\n        s=2s=2: [2,3,4,5][2,3,4,5],\\n        usw.\\n\\nnp.array([...]):\\n\\n    Fasst die Fenster zu einem 2D-Array zusammen.\\n    '"
      ]
     },
     "execution_count": 81,
     "metadata": {},
     "output_type": "execute_result"
    }
   ],
   "source": [
    "def gen_strides(a, stride_len=5, window_len=5):\n",
    "    n_strides = ((a.size-window_len)//stride_len) + 1\n",
    "    # return np.array([a[s:(s+window_len)] for s in np.arange(0, a.size, stride_len)[:n_strides]])\n",
    "    return np.array([a[s:(s+window_len)] for s in np.arange(0, n_strides*stride_len, stride_len)])\n",
    "\n",
    "print(gen_strides(np.arange(15), stride_len=2, window_len=4))\n",
    "#> [[ 0  1  2  3]\n",
    "#>  [ 2  3  4  5]\n",
    "#>  [ 4  5  6  7]\n",
    "#>  [ 6  7  8  9]\n",
    "#>  [ 8  9 10 11]\n",
    "#>  [10 11 12 13]]\n",
    "\n",
    "\n",
    "\"\"\"\n",
    "    a.size: Anzahl der Elemente im Array.\n",
    "    a.size - window_len: Der verfügbare Bereich, über den das Fenster geschoben werden kann.\n",
    "    // stride_len: Ganzzahldivision, die bestimmt, wie oft das Fenster verschoben werden kann.\n",
    "    + 1: Einschließlich des ersten Fensters.\n",
    "\n",
    "Beispiel:\n",
    "\n",
    "    Für a.size=15a.size=15, stride_len=2stride_len=2, window_len=4window_len=4:\n",
    "    n_strides=((15−4)//2)+1=6\n",
    "    n_strides=((15−4)//2)+1=6\n",
    "\n",
    "    \n",
    "np.arange(0, n_strides * stride_len, stride_len):\n",
    "\n",
    "    Erstellt eine Liste von Startpunkten für jedes Fenster, basierend auf der Schrittweite.\n",
    "    Beispiel: np.arange(0, 6*2, 2)=[0,2,4,6,8,10]np.arange(0, 6*2, 2)=[0,2,4,6,8,10].\n",
    "\n",
    "a[s:s + window_len]:\n",
    "\n",
    "    Schneidet für jeden Startpunkt (ss) ein Fenster der Länge window_lenwindow_len aus dem Array.\n",
    "    Beispiel: Für a=[0,1,2,...,14]a=[0,1,2,...,14]:\n",
    "        s=0s=0: [0,1,2,3][0,1,2,3],\n",
    "        s=2s=2: [2,3,4,5][2,3,4,5],\n",
    "        usw.\n",
    "\n",
    "np.array([...]):\n",
    "\n",
    "    Fasst die Fenster zu einem 2D-Array zusammen.\n",
    "    \"\"\""
   ]
  },
  {
   "cell_type": "code",
   "execution_count": null,
   "id": "71061cf7-5d6a-4bd6-84cb-0c5052d2f4aa",
   "metadata": {},
   "outputs": [],
   "source": []
  }
 ],
 "metadata": {
  "kernelspec": {
   "display_name": "Python 3 (ipykernel)",
   "language": "python",
   "name": "python3"
  },
  "language_info": {
   "codemirror_mode": {
    "name": "ipython",
    "version": 3
   },
   "file_extension": ".py",
   "mimetype": "text/x-python",
   "name": "python",
   "nbconvert_exporter": "python",
   "pygments_lexer": "ipython3",
   "version": "3.12.1"
  }
 },
 "nbformat": 4,
 "nbformat_minor": 5
}
